{
 "cells": [
  {
   "cell_type": "code",
   "execution_count": 29,
   "id": "012fd16a",
   "metadata": {},
   "outputs": [
    {
     "name": "stdout",
     "output_type": "stream",
     "text": [
      "Using TensorFlow version: 2.19.0\n"
     ]
    }
   ],
   "source": [
    "import os\n",
    "import tensorflow as tf\n",
    "from tensorflow.keras import layers, models, applications, regularizers\n",
    "from tensorflow.keras.preprocessing import image_dataset_from_directory\n",
    "from tensorflow.keras.metrics import Recall\n",
    "from tensorflow.keras.callbacks import EarlyStopping, ReduceLROnPlateau\n",
    "import numpy as np\n",
    "from sklearn.metrics import roc_curve, auc, precision_recall_curve, confusion_matrix, accuracy_score, precision_score, recall_score, f1_score, log_loss\n",
    "import pandas as pd\n",
    "import matplotlib.pyplot as plt\n",
    "from sklearn.model_selection import train_test_split\n",
    "from tensorflow.keras.preprocessing.image import ImageDataGenerator\n",
    "from sklearn.metrics import ConfusionMatrixDisplay\n",
    "import random\n",
    "\n",
    "print(\"Using TensorFlow version:\", tf.__version__)\n",
    "\n",
    "# Pour reproduire un comportement stable (optionnel)\n",
    "tf.random.set_seed(42)"
   ]
  },
  {
   "cell_type": "markdown",
   "id": "0159afdf",
   "metadata": {},
   "source": [
    "## 1. Chargement du dataset"
   ]
  },
  {
   "cell_type": "code",
   "execution_count": 30,
   "id": "11e5addc",
   "metadata": {},
   "outputs": [
    {
     "name": "stdout",
     "output_type": "stream",
     "text": [
      "Chargement des images...\n",
      "Found 1152 files belonging to 2 classes.\n",
      "Nombre d'images 'bad' avant augmentation: 199\n",
      "Nombre d'images 'good' avant augmentation: 607\n"
     ]
    }
   ],
   "source": [
    "\n",
    "# Configuration\n",
    "\n",
    "\n",
    "DATA_DIR = \"screw_dataset\"\n",
    "BATCH_SIZE = 32\n",
    "IMG_SIZE = (224, 224)\n",
    "SEED = 42\n",
    "\n",
    "# Fonctions de transformation\n",
    "def rotate_image(image, angle_degrees):\n",
    "    return tf.image.rot90(\n",
    "        image, \n",
    "        k=int(round(angle_degrees / 90)) % 4\n",
    "    )\n",
    "\n",
    "def specialized_augmentation(image):\n",
    "    \"\"\"\n",
    "    Augmentations simulant des défauts réels\n",
    "    \"\"\"\n",
    "    transforms = [\n",
    "        # Simulation de rayures\n",
    "        lambda img: tf.image.adjust_contrast(img, random.uniform(1.5, 2.5)),\n",
    "        \n",
    "        # Variations de géométrie du filetage\n",
    "        lambda img: rotate_image(img, random.choice([-10, 10])),\n",
    "        \n",
    "        # Simulation d'imperfections de surface\n",
    "        lambda img: tf.image.random_brightness(img, max_delta=0.2),\n",
    "        \n",
    "        # Variations de texture\n",
    "        lambda img: tf.image.adjust_saturation(img, random.uniform(0.5, 2.0))\n",
    "    ]\n",
    "    \n",
    "    # Combiner aléatoirement les transformations\n",
    "    selected_transforms = random.sample(transforms, random.randint(1, 2))\n",
    "    \n",
    "    transformed = image\n",
    "    for transform in selected_transforms:\n",
    "        transformed = transform(transformed)\n",
    "    \n",
    "    return tf.clip_by_value(transformed, 0.0, 1.0)\n",
    "\n",
    "# Focal Loss pour gérer le déséquilibre des classes\n",
    "def focal_loss(gamma=2., alpha=.25):\n",
    "    def focal_loss_fixed(y_true, y_pred):\n",
    "        pt_1 = tf.where(tf.equal(y_true, 1), y_pred, tf.ones_like(y_pred))\n",
    "        pt_0 = tf.where(tf.equal(y_true, 0), y_pred, tf.zeros_like(y_pred))\n",
    "        return -tf.reduce_sum(alpha * tf.pow(1. - pt_1, gamma) * tf.math.log(pt_1)) \\\n",
    "               -tf.reduce_sum((1 - alpha) * tf.pow(pt_0, gamma) * tf.math.log(1. - pt_0))\n",
    "    return focal_loss_fixed\n",
    "\n",
    "# Fonction de data augmentation\n",
    "def data_augmentation(X_train, y_train, BATCH_SIZE=32):\n",
    "    # Trouver les indices des images \"bad\" et \"good\"\n",
    "    bad_indices = np.where(y_train[:, 0] == 0)[0]\n",
    "    good_indices = np.where(y_train[:, 0] == 1)[0]\n",
    "    \n",
    "    X_bad = X_train[bad_indices]\n",
    "    X_good = X_train[good_indices]\n",
    "\n",
    "    print(f\"Nombre d'images 'bad' avant augmentation: {len(X_bad)}\")\n",
    "    print(f\"Nombre d'images 'good' avant augmentation: {len(X_good)}\")\n",
    "\n",
    "    # Générer des images augmentées\n",
    "    X_bad_augmented = []\n",
    "    y_bad_augmented = []\n",
    "\n",
    "    # Générer des augmentations jusqu'à atteindre le nombre d'images 'good'\n",
    "    np.random.seed(42)\n",
    "    remaining_count = len(X_good)\n",
    "    \n",
    "    while len(X_bad_augmented) < remaining_count:\n",
    "        # Choisir une image source\n",
    "        img_source = X_bad[len(X_bad_augmented) % len(X_bad)]\n",
    "        \n",
    "        # Appliquer la transformation\n",
    "        transformed_img = specialized_augmentation(img_source)\n",
    "        \n",
    "        # Ajouter l'image\n",
    "        X_bad_augmented.append(transformed_img.numpy())\n",
    "        y_bad_augmented.append(0)\n",
    "\n",
    "    # Convertir en arrays numpy\n",
    "    X_bad_augmented = np.array(X_bad_augmented)\n",
    "    y_bad_augmented = np.array(y_bad_augmented).reshape(-1, 1)\n",
    "\n",
    "    # Combiner avec les images \"good\"\n",
    "    X_train_balanced = np.concatenate([X_good, X_bad_augmented])\n",
    "    y_train_balanced = np.concatenate([\n",
    "        y_train[good_indices], \n",
    "        y_bad_augmented\n",
    "    ])\n",
    "\n",
    "    # Mélanger le nouvel ensemble d'entraînement\n",
    "    indices = np.arange(len(X_train_balanced))\n",
    "    np.random.shuffle(indices)\n",
    "    X_train_balanced = X_train_balanced[indices]\n",
    "    y_train_balanced = y_train_balanced[indices]\n",
    "\n",
    "    # Créer un nouveau dataset TensorFlow\n",
    "    train_dataset_balanced = tf.data.Dataset.from_tensor_slices((X_train_balanced, y_train_balanced))\n",
    "    train_dataset_balanced = train_dataset_balanced.shuffle(buffer_size=len(X_train_balanced)).batch(BATCH_SIZE)\n",
    "\n",
    "    return X_train_balanced, y_train_balanced, train_dataset_balanced\n",
    "\n",
    "print(\"Chargement des images...\")\n",
    "dataset = image_dataset_from_directory(\n",
    "    DATA_DIR,\n",
    "    labels='inferred',\n",
    "    label_mode='binary',\n",
    "    batch_size=BATCH_SIZE,\n",
    "    image_size=IMG_SIZE,\n",
    "    shuffle=False\n",
    ")\n",
    "\n",
    "# Extraction des images et labels\n",
    "all_images = []\n",
    "all_labels = []\n",
    "for images, labels in dataset:\n",
    "    all_images.append(images.numpy())\n",
    "    all_labels.append(labels.numpy())\n",
    "\n",
    "X = np.concatenate(all_images, axis=0) / 255.0  # Normalisation \n",
    "y = np.concatenate(all_labels, axis=0)\n",
    "\n",
    "# Mélange des données\n",
    "indices = np.arange(X.shape[0])\n",
    "np.random.seed(SEED)\n",
    "np.random.shuffle(indices)\n",
    "X_shuffled = X[indices]\n",
    "y_shuffled = y[indices]\n",
    "\n",
    "# Division train/validation/test\n",
    "from sklearn.model_selection import train_test_split\n",
    "\n",
    "X_train, X_temp, y_train, y_temp = train_test_split(\n",
    "    X_shuffled, y_shuffled, train_size=0.7, stratify=y_shuffled, random_state=SEED\n",
    ")\n",
    "\n",
    "X_val, X_test, y_val, y_test = train_test_split(\n",
    "    X_temp, y_temp, train_size=0.5, stratify=y_temp, random_state=SEED\n",
    ")\n",
    "\n",
    "# Data augmentation\n",
    "X_train_balanced, y_train_balanced, train_dataset = data_augmentation(X_train, y_train.reshape(-1, 1), BATCH_SIZE)\n",
    "\n",
    "# Création des datasets de validation et test\n",
    "val_dataset = tf.data.Dataset.from_tensor_slices((X_val, y_val)).batch(BATCH_SIZE)\n",
    "test_dataset = tf.data.Dataset.from_tensor_slices((X_test, y_test)).batch(BATCH_SIZE)\n",
    "\n",
    "\n"
   ]
  },
  {
   "cell_type": "markdown",
   "id": "778ec3ad",
   "metadata": {},
   "source": [
    "## 2. Définition d'un modèle simple\n",
    "On définit un modèle CNN"
   ]
  },
  {
   "cell_type": "code",
   "execution_count": 31,
   "id": "6b5811b9",
   "metadata": {},
   "outputs": [
    {
     "data": {
      "text/html": [
       "<pre style=\"white-space:pre;overflow-x:auto;line-height:normal;font-family:Menlo,'DejaVu Sans Mono',consolas,'Courier New',monospace\"><span style=\"font-weight: bold\">Model: \"sequential_4\"</span>\n",
       "</pre>\n"
      ],
      "text/plain": [
       "\u001b[1mModel: \"sequential_4\"\u001b[0m\n"
      ]
     },
     "metadata": {},
     "output_type": "display_data"
    },
    {
     "data": {
      "text/html": [
       "<pre style=\"white-space:pre;overflow-x:auto;line-height:normal;font-family:Menlo,'DejaVu Sans Mono',consolas,'Courier New',monospace\">┏━━━━━━━━━━━━━━━━━━━━━━━━━━━━━━━━━┳━━━━━━━━━━━━━━━━━━━━━━━━┳━━━━━━━━━━━━━━━┓\n",
       "┃<span style=\"font-weight: bold\"> Layer (type)                    </span>┃<span style=\"font-weight: bold\"> Output Shape           </span>┃<span style=\"font-weight: bold\">       Param # </span>┃\n",
       "┡━━━━━━━━━━━━━━━━━━━━━━━━━━━━━━━━━╇━━━━━━━━━━━━━━━━━━━━━━━━╇━━━━━━━━━━━━━━━┩\n",
       "│ vgg16 (<span style=\"color: #0087ff; text-decoration-color: #0087ff\">Functional</span>)              │ (<span style=\"color: #00d7ff; text-decoration-color: #00d7ff\">None</span>, <span style=\"color: #00af00; text-decoration-color: #00af00\">7</span>, <span style=\"color: #00af00; text-decoration-color: #00af00\">7</span>, <span style=\"color: #00af00; text-decoration-color: #00af00\">512</span>)      │    <span style=\"color: #00af00; text-decoration-color: #00af00\">14,714,688</span> │\n",
       "├─────────────────────────────────┼────────────────────────┼───────────────┤\n",
       "│ flatten_4 (<span style=\"color: #0087ff; text-decoration-color: #0087ff\">Flatten</span>)             │ (<span style=\"color: #00d7ff; text-decoration-color: #00d7ff\">None</span>, <span style=\"color: #00af00; text-decoration-color: #00af00\">25088</span>)          │             <span style=\"color: #00af00; text-decoration-color: #00af00\">0</span> │\n",
       "├─────────────────────────────────┼────────────────────────┼───────────────┤\n",
       "│ dense_8 (<span style=\"color: #0087ff; text-decoration-color: #0087ff\">Dense</span>)                 │ (<span style=\"color: #00d7ff; text-decoration-color: #00d7ff\">None</span>, <span style=\"color: #00af00; text-decoration-color: #00af00\">128</span>)            │     <span style=\"color: #00af00; text-decoration-color: #00af00\">3,211,392</span> │\n",
       "├─────────────────────────────────┼────────────────────────┼───────────────┤\n",
       "│ dropout_4 (<span style=\"color: #0087ff; text-decoration-color: #0087ff\">Dropout</span>)             │ (<span style=\"color: #00d7ff; text-decoration-color: #00d7ff\">None</span>, <span style=\"color: #00af00; text-decoration-color: #00af00\">128</span>)            │             <span style=\"color: #00af00; text-decoration-color: #00af00\">0</span> │\n",
       "├─────────────────────────────────┼────────────────────────┼───────────────┤\n",
       "│ dense_9 (<span style=\"color: #0087ff; text-decoration-color: #0087ff\">Dense</span>)                 │ (<span style=\"color: #00d7ff; text-decoration-color: #00d7ff\">None</span>, <span style=\"color: #00af00; text-decoration-color: #00af00\">1</span>)              │           <span style=\"color: #00af00; text-decoration-color: #00af00\">129</span> │\n",
       "└─────────────────────────────────┴────────────────────────┴───────────────┘\n",
       "</pre>\n"
      ],
      "text/plain": [
       "┏━━━━━━━━━━━━━━━━━━━━━━━━━━━━━━━━━┳━━━━━━━━━━━━━━━━━━━━━━━━┳━━━━━━━━━━━━━━━┓\n",
       "┃\u001b[1m \u001b[0m\u001b[1mLayer (type)                   \u001b[0m\u001b[1m \u001b[0m┃\u001b[1m \u001b[0m\u001b[1mOutput Shape          \u001b[0m\u001b[1m \u001b[0m┃\u001b[1m \u001b[0m\u001b[1m      Param #\u001b[0m\u001b[1m \u001b[0m┃\n",
       "┡━━━━━━━━━━━━━━━━━━━━━━━━━━━━━━━━━╇━━━━━━━━━━━━━━━━━━━━━━━━╇━━━━━━━━━━━━━━━┩\n",
       "│ vgg16 (\u001b[38;5;33mFunctional\u001b[0m)              │ (\u001b[38;5;45mNone\u001b[0m, \u001b[38;5;34m7\u001b[0m, \u001b[38;5;34m7\u001b[0m, \u001b[38;5;34m512\u001b[0m)      │    \u001b[38;5;34m14,714,688\u001b[0m │\n",
       "├─────────────────────────────────┼────────────────────────┼───────────────┤\n",
       "│ flatten_4 (\u001b[38;5;33mFlatten\u001b[0m)             │ (\u001b[38;5;45mNone\u001b[0m, \u001b[38;5;34m25088\u001b[0m)          │             \u001b[38;5;34m0\u001b[0m │\n",
       "├─────────────────────────────────┼────────────────────────┼───────────────┤\n",
       "│ dense_8 (\u001b[38;5;33mDense\u001b[0m)                 │ (\u001b[38;5;45mNone\u001b[0m, \u001b[38;5;34m128\u001b[0m)            │     \u001b[38;5;34m3,211,392\u001b[0m │\n",
       "├─────────────────────────────────┼────────────────────────┼───────────────┤\n",
       "│ dropout_4 (\u001b[38;5;33mDropout\u001b[0m)             │ (\u001b[38;5;45mNone\u001b[0m, \u001b[38;5;34m128\u001b[0m)            │             \u001b[38;5;34m0\u001b[0m │\n",
       "├─────────────────────────────────┼────────────────────────┼───────────────┤\n",
       "│ dense_9 (\u001b[38;5;33mDense\u001b[0m)                 │ (\u001b[38;5;45mNone\u001b[0m, \u001b[38;5;34m1\u001b[0m)              │           \u001b[38;5;34m129\u001b[0m │\n",
       "└─────────────────────────────────┴────────────────────────┴───────────────┘\n"
      ]
     },
     "metadata": {},
     "output_type": "display_data"
    },
    {
     "data": {
      "text/html": [
       "<pre style=\"white-space:pre;overflow-x:auto;line-height:normal;font-family:Menlo,'DejaVu Sans Mono',consolas,'Courier New',monospace\"><span style=\"font-weight: bold\"> Total params: </span><span style=\"color: #00af00; text-decoration-color: #00af00\">17,926,209</span> (68.38 MB)\n",
       "</pre>\n"
      ],
      "text/plain": [
       "\u001b[1m Total params: \u001b[0m\u001b[38;5;34m17,926,209\u001b[0m (68.38 MB)\n"
      ]
     },
     "metadata": {},
     "output_type": "display_data"
    },
    {
     "data": {
      "text/html": [
       "<pre style=\"white-space:pre;overflow-x:auto;line-height:normal;font-family:Menlo,'DejaVu Sans Mono',consolas,'Courier New',monospace\"><span style=\"font-weight: bold\"> Trainable params: </span><span style=\"color: #00af00; text-decoration-color: #00af00\">3,211,521</span> (12.25 MB)\n",
       "</pre>\n"
      ],
      "text/plain": [
       "\u001b[1m Trainable params: \u001b[0m\u001b[38;5;34m3,211,521\u001b[0m (12.25 MB)\n"
      ]
     },
     "metadata": {},
     "output_type": "display_data"
    },
    {
     "data": {
      "text/html": [
       "<pre style=\"white-space:pre;overflow-x:auto;line-height:normal;font-family:Menlo,'DejaVu Sans Mono',consolas,'Courier New',monospace\"><span style=\"font-weight: bold\"> Non-trainable params: </span><span style=\"color: #00af00; text-decoration-color: #00af00\">14,714,688</span> (56.13 MB)\n",
       "</pre>\n"
      ],
      "text/plain": [
       "\u001b[1m Non-trainable params: \u001b[0m\u001b[38;5;34m14,714,688\u001b[0m (56.13 MB)\n"
      ]
     },
     "metadata": {},
     "output_type": "display_data"
    }
   ],
   "source": [
    "#encodeur\n",
    "\n",
    "# Charger VGG16 pré-entraîné\n",
    "base_model = applications.VGG16(weights='imagenet', include_top=False, input_shape=(224, 224, 3))\n",
    "base_model.trainable = False  # On fige les poids du VGG16\n",
    "\n",
    "model = models.Sequential([\n",
    "\n",
    "    base_model,\n",
    "    layers.Flatten(),\n",
    "    layers.Dense(128, activation='relu', kernel_regularizer=regularizers.l2(0.01)),  # L2 sur couche dense\n",
    "    layers.Dropout(0.5),  # Dropout ajusté pour éviter la perte d'information\n",
    "    layers.Dense(1, activation='sigmoid', kernel_regularizer=regularizers.l2(0.01))\n",
    "])\n",
    "\n",
    "model.compile(\n",
    "    optimizer=tf.keras.optimizers.Adam(learning_rate=0.0001),\n",
    "    loss='binary_crossentropy',\n",
    "    metrics = ['accuracy', tf.keras.metrics.Recall(name='recall')]\n",
    ")\n",
    "\n",
    "model.summary()"
   ]
  },
  {
   "cell_type": "markdown",
   "id": "9e3e09f5",
   "metadata": {},
   "source": [
    "## 3. Entraînement du modèle"
   ]
  },
  {
   "cell_type": "code",
   "execution_count": 32,
   "id": "1712c369",
   "metadata": {},
   "outputs": [
    {
     "name": "stdout",
     "output_type": "stream",
     "text": [
      "Epoch 1/50\n",
      "\u001b[1m38/38\u001b[0m \u001b[32m━━━━━━━━━━━━━━━━━━━━\u001b[0m\u001b[37m\u001b[0m \u001b[1m29s\u001b[0m 747ms/step - accuracy: 0.5432 - loss: 3.1606 - recall: 0.5360 - val_accuracy: 0.7283 - val_loss: 2.2047 - val_recall: 0.9692 - learning_rate: 1.0000e-04\n",
      "Epoch 2/50\n",
      "\u001b[1m38/38\u001b[0m \u001b[32m━━━━━━━━━━━━━━━━━━━━\u001b[0m\u001b[37m\u001b[0m \u001b[1m28s\u001b[0m 750ms/step - accuracy: 0.6536 - loss: 2.1063 - recall: 0.6904 - val_accuracy: 0.7225 - val_loss: 1.7041 - val_recall: 0.8462 - learning_rate: 1.0000e-04\n",
      "Epoch 3/50\n",
      "\u001b[1m38/38\u001b[0m \u001b[32m━━━━━━━━━━━━━━━━━━━━\u001b[0m\u001b[37m\u001b[0m \u001b[1m28s\u001b[0m 744ms/step - accuracy: 0.7174 - loss: 1.5894 - recall: 0.7440 - val_accuracy: 0.7630 - val_loss: 1.3927 - val_recall: 0.8846 - learning_rate: 1.0000e-04\n",
      "Epoch 4/50\n",
      "\u001b[1m38/38\u001b[0m \u001b[32m━━━━━━━━━━━━━━━━━━━━\u001b[0m\u001b[37m\u001b[0m \u001b[1m28s\u001b[0m 749ms/step - accuracy: 0.7336 - loss: 1.3153 - recall: 0.7918 - val_accuracy: 0.7399 - val_loss: 1.1936 - val_recall: 0.9462 - learning_rate: 1.0000e-04\n",
      "Epoch 5/50\n",
      "\u001b[1m38/38\u001b[0m \u001b[32m━━━━━━━━━━━━━━━━━━━━\u001b[0m\u001b[37m\u001b[0m \u001b[1m28s\u001b[0m 747ms/step - accuracy: 0.7638 - loss: 1.1596 - recall: 0.8503 - val_accuracy: 0.7630 - val_loss: 1.1010 - val_recall: 0.9000 - learning_rate: 1.0000e-04\n",
      "Epoch 6/50\n",
      "\u001b[1m38/38\u001b[0m \u001b[32m━━━━━━━━━━━━━━━━━━━━\u001b[0m\u001b[37m\u001b[0m \u001b[1m28s\u001b[0m 744ms/step - accuracy: 0.7797 - loss: 1.0350 - recall: 0.8513 - val_accuracy: 0.6994 - val_loss: 1.0988 - val_recall: 0.7231 - learning_rate: 1.0000e-04\n",
      "Epoch 7/50\n",
      "\u001b[1m38/38\u001b[0m \u001b[32m━━━━━━━━━━━━━━━━━━━━\u001b[0m\u001b[37m\u001b[0m \u001b[1m28s\u001b[0m 744ms/step - accuracy: 0.8096 - loss: 0.9341 - recall: 0.8164 - val_accuracy: 0.7630 - val_loss: 0.9897 - val_recall: 0.8692 - learning_rate: 1.0000e-04\n",
      "Epoch 8/50\n",
      "\u001b[1m38/38\u001b[0m \u001b[32m━━━━━━━━━━━━━━━━━━━━\u001b[0m\u001b[37m\u001b[0m \u001b[1m28s\u001b[0m 747ms/step - accuracy: 0.8159 - loss: 0.8858 - recall: 0.8233 - val_accuracy: 0.7630 - val_loss: 0.9110 - val_recall: 0.9154 - learning_rate: 1.0000e-04\n",
      "Epoch 9/50\n",
      "\u001b[1m38/38\u001b[0m \u001b[32m━━━━━━━━━━━━━━━━━━━━\u001b[0m\u001b[37m\u001b[0m \u001b[1m29s\u001b[0m 755ms/step - accuracy: 0.8254 - loss: 0.8267 - recall: 0.8617 - val_accuracy: 0.7572 - val_loss: 0.8951 - val_recall: 0.9000 - learning_rate: 1.0000e-04\n",
      "Epoch 10/50\n",
      "\u001b[1m38/38\u001b[0m \u001b[32m━━━━━━━━━━━━━━━━━━━━\u001b[0m\u001b[37m\u001b[0m \u001b[1m28s\u001b[0m 750ms/step - accuracy: 0.8189 - loss: 0.7890 - recall: 0.8358 - val_accuracy: 0.7688 - val_loss: 0.8512 - val_recall: 0.8846 - learning_rate: 1.0000e-04\n",
      "Epoch 11/50\n",
      "\u001b[1m38/38\u001b[0m \u001b[32m━━━━━━━━━━━━━━━━━━━━\u001b[0m\u001b[37m\u001b[0m \u001b[1m28s\u001b[0m 750ms/step - accuracy: 0.8216 - loss: 0.7665 - recall: 0.8672 - val_accuracy: 0.7688 - val_loss: 0.8236 - val_recall: 0.8846 - learning_rate: 1.0000e-04\n",
      "Epoch 12/50\n",
      "\u001b[1m38/38\u001b[0m \u001b[32m━━━━━━━━━━━━━━━━━━━━\u001b[0m\u001b[37m\u001b[0m \u001b[1m29s\u001b[0m 758ms/step - accuracy: 0.8356 - loss: 0.7315 - recall: 0.8837 - val_accuracy: 0.7688 - val_loss: 0.7824 - val_recall: 0.9462 - learning_rate: 1.0000e-04\n",
      "Epoch 13/50\n",
      "\u001b[1m38/38\u001b[0m \u001b[32m━━━━━━━━━━━━━━━━━━━━\u001b[0m\u001b[37m\u001b[0m \u001b[1m28s\u001b[0m 749ms/step - accuracy: 0.8309 - loss: 0.7225 - recall: 0.9054 - val_accuracy: 0.7861 - val_loss: 0.7709 - val_recall: 0.9000 - learning_rate: 1.0000e-04\n",
      "Epoch 14/50\n",
      "\u001b[1m38/38\u001b[0m \u001b[32m━━━━━━━━━━━━━━━━━━━━\u001b[0m\u001b[37m\u001b[0m \u001b[1m28s\u001b[0m 750ms/step - accuracy: 0.8549 - loss: 0.6703 - recall: 0.9000 - val_accuracy: 0.7919 - val_loss: 0.7720 - val_recall: 0.8692 - learning_rate: 1.0000e-04\n",
      "Epoch 15/50\n",
      "\u001b[1m38/38\u001b[0m \u001b[32m━━━━━━━━━━━━━━━━━━━━\u001b[0m\u001b[37m\u001b[0m \u001b[1m29s\u001b[0m 754ms/step - accuracy: 0.8659 - loss: 0.6466 - recall: 0.8986 - val_accuracy: 0.7803 - val_loss: 0.7773 - val_recall: 0.8077 - learning_rate: 1.0000e-04\n",
      "Epoch 16/50\n",
      "\u001b[1m38/38\u001b[0m \u001b[32m━━━━━━━━━━━━━━━━━━━━\u001b[0m\u001b[37m\u001b[0m \u001b[1m29s\u001b[0m 753ms/step - accuracy: 0.8620 - loss: 0.6094 - recall: 0.8637 - val_accuracy: 0.7803 - val_loss: 0.7167 - val_recall: 0.9231 - learning_rate: 1.0000e-04\n",
      "Epoch 17/50\n",
      "\u001b[1m38/38\u001b[0m \u001b[32m━━━━━━━━━━━━━━━━━━━━\u001b[0m\u001b[37m\u001b[0m \u001b[1m28s\u001b[0m 750ms/step - accuracy: 0.8478 - loss: 0.6139 - recall: 0.9061 - val_accuracy: 0.7861 - val_loss: 0.7239 - val_recall: 0.8769 - learning_rate: 1.0000e-04\n",
      "Epoch 18/50\n",
      "\u001b[1m38/38\u001b[0m \u001b[32m━━━━━━━━━━━━━━━━━━━━\u001b[0m\u001b[37m\u001b[0m \u001b[1m29s\u001b[0m 753ms/step - accuracy: 0.8704 - loss: 0.6011 - recall: 0.9057 - val_accuracy: 0.7977 - val_loss: 0.7115 - val_recall: 0.8692 - learning_rate: 1.0000e-04\n",
      "Epoch 19/50\n",
      "\u001b[1m38/38\u001b[0m \u001b[32m━━━━━━━━━━━━━━━━━━━━\u001b[0m\u001b[37m\u001b[0m \u001b[1m29s\u001b[0m 755ms/step - accuracy: 0.8843 - loss: 0.5590 - recall: 0.9210 - val_accuracy: 0.7746 - val_loss: 0.7166 - val_recall: 0.8308 - learning_rate: 1.0000e-04\n",
      "Epoch 20/50\n",
      "\u001b[1m38/38\u001b[0m \u001b[32m━━━━━━━━━━━━━━━━━━━━\u001b[0m\u001b[37m\u001b[0m \u001b[1m28s\u001b[0m 750ms/step - accuracy: 0.8710 - loss: 0.5684 - recall: 0.9058 - val_accuracy: 0.7919 - val_loss: 0.6700 - val_recall: 0.9308 - learning_rate: 1.0000e-04\n",
      "Epoch 21/50\n",
      "\u001b[1m38/38\u001b[0m \u001b[32m━━━━━━━━━━━━━━━━━━━━\u001b[0m\u001b[37m\u001b[0m \u001b[1m28s\u001b[0m 751ms/step - accuracy: 0.9093 - loss: 0.5310 - recall: 0.9148 - val_accuracy: 0.8150 - val_loss: 0.6750 - val_recall: 0.8923 - learning_rate: 1.0000e-04\n",
      "Epoch 22/50\n",
      "\u001b[1m38/38\u001b[0m \u001b[32m━━━━━━━━━━━━━━━━━━━━\u001b[0m\u001b[37m\u001b[0m \u001b[1m28s\u001b[0m 752ms/step - accuracy: 0.8731 - loss: 0.5486 - recall: 0.8783 - val_accuracy: 0.7746 - val_loss: 0.6570 - val_recall: 0.9615 - learning_rate: 1.0000e-04\n",
      "Epoch 23/50\n",
      "\u001b[1m38/38\u001b[0m \u001b[32m━━━━━━━━━━━━━━━━━━━━\u001b[0m\u001b[37m\u001b[0m \u001b[1m28s\u001b[0m 751ms/step - accuracy: 0.8817 - loss: 0.5231 - recall: 0.9307 - val_accuracy: 0.7861 - val_loss: 0.6453 - val_recall: 0.9538 - learning_rate: 1.0000e-04\n",
      "Epoch 24/50\n",
      "\u001b[1m38/38\u001b[0m \u001b[32m━━━━━━━━━━━━━━━━━━━━\u001b[0m\u001b[37m\u001b[0m \u001b[1m28s\u001b[0m 750ms/step - accuracy: 0.8850 - loss: 0.5203 - recall: 0.9045 - val_accuracy: 0.7977 - val_loss: 0.6655 - val_recall: 0.8692 - learning_rate: 1.0000e-04\n",
      "Epoch 25/50\n",
      "\u001b[1m38/38\u001b[0m \u001b[32m━━━━━━━━━━━━━━━━━━━━\u001b[0m\u001b[37m\u001b[0m \u001b[1m29s\u001b[0m 757ms/step - accuracy: 0.8981 - loss: 0.5083 - recall: 0.9232 - val_accuracy: 0.7803 - val_loss: 0.6329 - val_recall: 0.9385 - learning_rate: 1.0000e-04\n",
      "Epoch 26/50\n",
      "\u001b[1m38/38\u001b[0m \u001b[32m━━━━━━━━━━━━━━━━━━━━\u001b[0m\u001b[37m\u001b[0m \u001b[1m29s\u001b[0m 752ms/step - accuracy: 0.8830 - loss: 0.5065 - recall: 0.9189 - val_accuracy: 0.7861 - val_loss: 0.6601 - val_recall: 0.8385 - learning_rate: 1.0000e-04\n",
      "Epoch 27/50\n",
      "\u001b[1m38/38\u001b[0m \u001b[32m━━━━━━━━━━━━━━━━━━━━\u001b[0m\u001b[37m\u001b[0m \u001b[1m28s\u001b[0m 749ms/step - accuracy: 0.8635 - loss: 0.5178 - recall: 0.8745 - val_accuracy: 0.8150 - val_loss: 0.6255 - val_recall: 0.9385 - learning_rate: 1.0000e-04\n",
      "Epoch 28/50\n",
      "\u001b[1m38/38\u001b[0m \u001b[32m━━━━━━━━━━━━━━━━━━━━\u001b[0m\u001b[37m\u001b[0m \u001b[1m28s\u001b[0m 746ms/step - accuracy: 0.8917 - loss: 0.4975 - recall: 0.8946 - val_accuracy: 0.8035 - val_loss: 0.6192 - val_recall: 0.9231 - learning_rate: 1.0000e-04\n",
      "Epoch 29/50\n",
      "\u001b[1m38/38\u001b[0m \u001b[32m━━━━━━━━━━━━━━━━━━━━\u001b[0m\u001b[37m\u001b[0m \u001b[1m28s\u001b[0m 747ms/step - accuracy: 0.9168 - loss: 0.4580 - recall: 0.9344 - val_accuracy: 0.8266 - val_loss: 0.6134 - val_recall: 0.8923 - learning_rate: 1.0000e-04\n",
      "Epoch 30/50\n",
      "\u001b[1m38/38\u001b[0m \u001b[32m━━━━━━━━━━━━━━━━━━━━\u001b[0m\u001b[37m\u001b[0m \u001b[1m28s\u001b[0m 746ms/step - accuracy: 0.9219 - loss: 0.4444 - recall: 0.9355 - val_accuracy: 0.8150 - val_loss: 0.6272 - val_recall: 0.8769 - learning_rate: 1.0000e-04\n",
      "Epoch 31/50\n",
      "\u001b[1m38/38\u001b[0m \u001b[32m━━━━━━━━━━━━━━━━━━━━\u001b[0m\u001b[37m\u001b[0m \u001b[1m28s\u001b[0m 745ms/step - accuracy: 0.9219 - loss: 0.4459 - recall: 0.9231 - val_accuracy: 0.8035 - val_loss: 0.6578 - val_recall: 0.8231 - learning_rate: 1.0000e-04\n",
      "Epoch 32/50\n",
      "\u001b[1m38/38\u001b[0m \u001b[32m━━━━━━━━━━━━━━━━━━━━\u001b[0m\u001b[37m\u001b[0m \u001b[1m28s\u001b[0m 752ms/step - accuracy: 0.8990 - loss: 0.4494 - recall: 0.9295 - val_accuracy: 0.8266 - val_loss: 0.6103 - val_recall: 0.9154 - learning_rate: 1.0000e-04\n",
      "Epoch 33/50\n",
      "\u001b[1m38/38\u001b[0m \u001b[32m━━━━━━━━━━━━━━━━━━━━\u001b[0m\u001b[37m\u001b[0m \u001b[1m28s\u001b[0m 746ms/step - accuracy: 0.9202 - loss: 0.4365 - recall: 0.9355 - val_accuracy: 0.7803 - val_loss: 0.6441 - val_recall: 0.9769 - learning_rate: 1.0000e-04\n",
      "Epoch 34/50\n",
      "\u001b[1m38/38\u001b[0m \u001b[32m━━━━━━━━━━━━━━━━━━━━\u001b[0m\u001b[37m\u001b[0m \u001b[1m28s\u001b[0m 750ms/step - accuracy: 0.8876 - loss: 0.4524 - recall: 0.9394 - val_accuracy: 0.7977 - val_loss: 0.5912 - val_recall: 0.9308 - learning_rate: 1.0000e-04\n",
      "Epoch 35/50\n",
      "\u001b[1m38/38\u001b[0m \u001b[32m━━━━━━━━━━━━━━━━━━━━\u001b[0m\u001b[37m\u001b[0m \u001b[1m28s\u001b[0m 746ms/step - accuracy: 0.9070 - loss: 0.4288 - recall: 0.9203 - val_accuracy: 0.7746 - val_loss: 0.6140 - val_recall: 0.9692 - learning_rate: 1.0000e-04\n",
      "Epoch 36/50\n",
      "\u001b[1m38/38\u001b[0m \u001b[32m━━━━━━━━━━━━━━━━━━━━\u001b[0m\u001b[37m\u001b[0m \u001b[1m28s\u001b[0m 746ms/step - accuracy: 0.9023 - loss: 0.4282 - recall: 0.9188 - val_accuracy: 0.7688 - val_loss: 0.6069 - val_recall: 0.9385 - learning_rate: 1.0000e-04\n",
      "Epoch 37/50\n",
      "\u001b[1m38/38\u001b[0m \u001b[32m━━━━━━━━━━━━━━━━━━━━\u001b[0m\u001b[37m\u001b[0m \u001b[1m28s\u001b[0m 752ms/step - accuracy: 0.9186 - loss: 0.4225 - recall: 0.9299 - val_accuracy: 0.7919 - val_loss: 0.6035 - val_recall: 0.9385 - learning_rate: 1.0000e-04\n",
      "Epoch 38/50\n",
      "\u001b[1m38/38\u001b[0m \u001b[32m━━━━━━━━━━━━━━━━━━━━\u001b[0m\u001b[37m\u001b[0m \u001b[1m28s\u001b[0m 751ms/step - accuracy: 0.9182 - loss: 0.4258 - recall: 0.9530 - val_accuracy: 0.8208 - val_loss: 0.5865 - val_recall: 0.9385 - learning_rate: 5.0000e-05\n",
      "Epoch 39/50\n",
      "\u001b[1m38/38\u001b[0m \u001b[32m━━━━━━━━━━━━━━━━━━━━\u001b[0m\u001b[37m\u001b[0m \u001b[1m28s\u001b[0m 750ms/step - accuracy: 0.9363 - loss: 0.4002 - recall: 0.9529 - val_accuracy: 0.8150 - val_loss: 0.6023 - val_recall: 0.8615 - learning_rate: 5.0000e-05\n",
      "Epoch 40/50\n",
      "\u001b[1m38/38\u001b[0m \u001b[32m━━━━━━━━━━━━━━━━━━━━\u001b[0m\u001b[37m\u001b[0m \u001b[1m29s\u001b[0m 754ms/step - accuracy: 0.9571 - loss: 0.3758 - recall: 0.9580 - val_accuracy: 0.8382 - val_loss: 0.5866 - val_recall: 0.9308 - learning_rate: 5.0000e-05\n",
      "Epoch 41/50\n",
      "\u001b[1m38/38\u001b[0m \u001b[32m━━━━━━━━━━━━━━━━━━━━\u001b[0m\u001b[37m\u001b[0m \u001b[1m28s\u001b[0m 751ms/step - accuracy: 0.9357 - loss: 0.3897 - recall: 0.9478 - val_accuracy: 0.8324 - val_loss: 0.5824 - val_recall: 0.9154 - learning_rate: 5.0000e-05\n",
      "Epoch 42/50\n",
      "\u001b[1m38/38\u001b[0m \u001b[32m━━━━━━━━━━━━━━━━━━━━\u001b[0m\u001b[37m\u001b[0m \u001b[1m29s\u001b[0m 758ms/step - accuracy: 0.9430 - loss: 0.3895 - recall: 0.9482 - val_accuracy: 0.8382 - val_loss: 0.5710 - val_recall: 0.9308 - learning_rate: 5.0000e-05\n",
      "Epoch 43/50\n",
      "\u001b[1m38/38\u001b[0m \u001b[32m━━━━━━━━━━━━━━━━━━━━\u001b[0m\u001b[37m\u001b[0m \u001b[1m28s\u001b[0m 750ms/step - accuracy: 0.9340 - loss: 0.3856 - recall: 0.9396 - val_accuracy: 0.8324 - val_loss: 0.5807 - val_recall: 0.9308 - learning_rate: 5.0000e-05\n",
      "Epoch 44/50\n",
      "\u001b[1m38/38\u001b[0m \u001b[32m━━━━━━━━━━━━━━━━━━━━\u001b[0m\u001b[37m\u001b[0m \u001b[1m28s\u001b[0m 750ms/step - accuracy: 0.9533 - loss: 0.3638 - recall: 0.9611 - val_accuracy: 0.8382 - val_loss: 0.5763 - val_recall: 0.9308 - learning_rate: 5.0000e-05\n",
      "Epoch 45/50\n",
      "\u001b[1m38/38\u001b[0m \u001b[32m━━━━━━━━━━━━━━━━━━━━\u001b[0m\u001b[37m\u001b[0m \u001b[1m28s\u001b[0m 751ms/step - accuracy: 0.9478 - loss: 0.3659 - recall: 0.9636 - val_accuracy: 0.8324 - val_loss: 0.5825 - val_recall: 0.9154 - learning_rate: 5.0000e-05\n",
      "Epoch 46/50\n",
      "\u001b[1m38/38\u001b[0m \u001b[32m━━━━━━━━━━━━━━━━━━━━\u001b[0m\u001b[37m\u001b[0m \u001b[1m29s\u001b[0m 756ms/step - accuracy: 0.9621 - loss: 0.3647 - recall: 0.9672 - val_accuracy: 0.8266 - val_loss: 0.5727 - val_recall: 0.9154 - learning_rate: 2.5000e-05\n",
      "Epoch 47/50\n",
      "\u001b[1m38/38\u001b[0m \u001b[32m━━━━━━━━━━━━━━━━━━━━\u001b[0m\u001b[37m\u001b[0m \u001b[1m28s\u001b[0m 750ms/step - accuracy: 0.9673 - loss: 0.3528 - recall: 0.9735 - val_accuracy: 0.8382 - val_loss: 0.5733 - val_recall: 0.9231 - learning_rate: 2.5000e-05\n"
     ]
    }
   ],
   "source": [
    "# Callbacks\n",
    "early_stopping = EarlyStopping(\n",
    "    monitor='val_loss',\n",
    "    patience=5,\n",
    "    restore_best_weights=True\n",
    ")\n",
    "\n",
    "reduce_lr = ReduceLROnPlateau(\n",
    "    monitor='val_loss',\n",
    "    factor=0.5,       # Réduction du LR par un facteur de 2\n",
    "    patience=3,       # Attendre 3 époques sans amélioration avant de réduire\n",
    "    min_delta=0.001,  # Seuil minimum de variation pour considérer une amélioration\n",
    "    min_lr=1e-6       # LR minimum pour éviter d'aller trop bas\n",
    ")\n",
    "\n",
    "# Entraînement\n",
    "history = model.fit(\n",
    "    train_dataset,\n",
    "    epochs=50,\n",
    "    validation_data=val_dataset, \n",
    "    callbacks=[early_stopping, reduce_lr],\n",
    "    verbose=1\n",
    ")"
   ]
  },
  {
   "cell_type": "code",
   "execution_count": 33,
   "id": "6626b0db",
   "metadata": {
    "lines_to_next_cell": 2
   },
   "outputs": [
    {
     "name": "stdout",
     "output_type": "stream",
     "text": [
      "\u001b[1m1/1\u001b[0m \u001b[32m━━━━━━━━━━━━━━━━━━━━\u001b[0m\u001b[37m\u001b[0m \u001b[1m1s\u001b[0m 733ms/step\n",
      "\u001b[1m1/1\u001b[0m \u001b[32m━━━━━━━━━━━━━━━━━━━━\u001b[0m\u001b[37m\u001b[0m \u001b[1m1s\u001b[0m 669ms/step\n",
      "\u001b[1m1/1\u001b[0m \u001b[32m━━━━━━━━━━━━━━━━━━━━\u001b[0m\u001b[37m\u001b[0m \u001b[1m1s\u001b[0m 658ms/step\n",
      "\u001b[1m1/1\u001b[0m \u001b[32m━━━━━━━━━━━━━━━━━━━━\u001b[0m\u001b[37m\u001b[0m \u001b[1m1s\u001b[0m 673ms/step\n",
      "\u001b[1m1/1\u001b[0m \u001b[32m━━━━━━━━━━━━━━━━━━━━\u001b[0m\u001b[37m\u001b[0m \u001b[1m1s\u001b[0m 655ms/step\n",
      "\u001b[1m1/1\u001b[0m \u001b[32m━━━━━━━━━━━━━━━━━━━━\u001b[0m\u001b[37m\u001b[0m \u001b[1m0s\u001b[0m 353ms/step\n",
      "✅ Seuil optimal pour Recall ≥ 99.0% : 0.5500\n"
     ]
    },
    {
     "data": {
      "image/png": "[encoded data removed]",
      "text/plain": [
       "<Figure size 800x600 with 1 Axes>"
      ]
     },
     "metadata": {},
     "output_type": "display_data"
    }
   ],
   "source": [
    "# Ajout de la courbe ROC, AUC et Precision-Recall après l'entraînement\n",
    "\n",
    "y_true = []\n",
    "y_scores = []\n",
    "\n",
    "# On extrait les prédictions et les vraies valeurs une seule fois clairement :\n",
    "for x_batch, y_batch in val_dataset:\n",
    "    y_true.extend(y_batch.numpy())  \n",
    "    y_scores.extend(model.predict(x_batch).flatten())  \n",
    "\n",
    "y_true = np.array(y_true)\n",
    "y_scores = np.array(y_scores)\n",
    "\n",
    "# Calcul de la courbe ROC\n",
    "fpr, tpr, roc_thresholds = roc_curve(y_true, y_scores)\n",
    "roc_auc = auc(fpr, tpr)\n",
    "\n",
    "# Calcul de la courbe Precision-Recall pour seuil optimal selon Recall minimal\n",
    "precision, recall, pr_thresholds = precision_recall_curve(y_true, y_scores)\n",
    "\n",
    "# On fixe un Recall minimum (99% pour protéger au maximum la réputation)\n",
    "recall_min = 0.99\n",
    "\n",
    "# Trouver le seuil optimal correspondant au Recall minimal requis\n",
    "optimal_threshold = pr_thresholds[np.where(recall >= recall_min)[0][-1]]\n",
    "\n",
    "optimal_threshold = 0.55\n",
    "\n",
    "print(f\"✅ Seuil optimal pour Recall ≥ {recall_min*100:.1f}% : {optimal_threshold:.4f}\")\n",
    "\n",
    "# Prédictions finales avec seuil optimal\n",
    "y_pred_optimal = (y_scores >= optimal_threshold).astype(int)\n",
    "\n",
    "\n",
    "# Affichage de la courbe ROC\n",
    "plt.figure(figsize=(8, 6))\n",
    "plt.plot(fpr, tpr, color='blue', label=f'ROC curve (AUC = {roc_auc:.2f})')\n",
    "plt.plot([0, 1], [0, 1], color='gray', linestyle='--')\n",
    "plt.xlabel('False Positive Rate')\n",
    "plt.ylabel('True Positive Rate')\n",
    "plt.title('Courbe ROC')\n",
    "plt.legend(loc='lower right')\n",
    "plt.show()"
   ]
  },
  {
   "cell_type": "markdown",
   "id": "dccd378e",
   "metadata": {},
   "source": [
    "## 4. Évaluation sur le même dataset"
   ]
  },
  {
   "cell_type": "code",
   "execution_count": 34,
   "id": "0e9345dd",
   "metadata": {},
   "outputs": [
    {
     "name": "stdout",
     "output_type": "stream",
     "text": [
      "\u001b[1m6/6\u001b[0m \u001b[32m━━━━━━━━━━━━━━━━━━━━\u001b[0m\u001b[37m\u001b[0m \u001b[1m3s\u001b[0m 567ms/step\n"
     ]
    },
    {
     "data": {
      "image/png": "[encoded data removed]",
      "text/plain": [
       "<Figure size 800x600 with 2 Axes>"
      ]
     },
     "metadata": {},
     "output_type": "display_data"
    },
    {
     "name": "stdout",
     "output_type": "stream",
     "text": [
      "Accuracy avec seuil optimal (0.5500) : 0.8266\n",
      "Précision : 0.8906\n",
      "Recall : 0.8769\n",
      "F1-score : 0.8837\n"
     ]
    }
   ],
   "source": [
    "# Obtenir les probabilités des prédictions sur le test set\n",
    "y_scores_test = model.predict(X_test).flatten()  # Sorties sigmoïdes entre 0 et 1\n",
    "\n",
    "# Appliquer le seuil optimal trouvé avec la courbe ROC  \n",
    "y_pred_test = (y_scores_test >= optimal_threshold).astype(int)\n",
    "\n",
    "# Calcul et affichage clair de la matrice de confusion\n",
    "cm = confusion_matrix(y_true, y_pred_test)\n",
    "disp = ConfusionMatrixDisplay(confusion_matrix=cm, display_labels=['Classe 0 (OK)', 'Classe 1 (Défaut)'])\n",
    "\n",
    "plt.figure(figsize=(8,6))\n",
    "disp.plot(cmap='Blues', values_format='d', ax=plt.gca())\n",
    "plt.title('Matrice de Confusion sur Test (Seuil optimal)')\n",
    "plt.show()\n",
    "\n",
    "# Calcul des métriques\n",
    "accuracy = accuracy_score(y_test, y_pred_test)\n",
    "precision = precision_score(y_test, y_pred_test)\n",
    "recall = recall_score(y_test, y_pred_test)\n",
    "f1 = f1_score(y_test, y_pred_test)  \n",
    "\n",
    "# Affichage des résultats\n",
    "print(f\"Accuracy avec seuil optimal ({optimal_threshold:.4f}) : {accuracy:.4f}\")\n",
    "print(f\"Précision : {precision:.4f}\")\n",
    "print(f\"Recall : {recall:.4f}\")\n",
    "print(f\"F1-score : {f1:.4f}\")"
   ]
  }
 ],
 "metadata": {
  "jupytext": {
   "cell_metadata_filter": "-all",
   "main_language": "python",
   "notebook_metadata_filter": "-all"
  },
  "kernelspec": {
   "display_name": "venv",
   "language": "python",
   "name": "python3"
  },
  "language_info": {
   "codemirror_mode": {
    "name": "ipython",
    "version": 3
   },
   "file_extension": ".py",
   "mimetype": "text/x-python",
   "name": "python",
   "nbconvert_exporter": "python",
   "pygments_lexer": "ipython3",
   "version": "3.11.0"
  }
 },
 "nbformat": 4,
 "nbformat_minor": 5
}
