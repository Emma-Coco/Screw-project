{
  "cells": [
    {
      "cell_type": "code",
      "execution_count": 8,
      "id": "kbuJwbDWlH6V",
      "metadata": {
        "id": "kbuJwbDWlH6V"
      },
      "outputs": [
        {
          "name": "stdout",
          "output_type": "stream",
          "text": [
            "Using TensorFlow version: 2.16.2\n"
          ]
        }
      ],
      "source": [
        "import os\n",
        "import tensorflow as tf\n",
        "from tensorflow.keras import layers, models, applications\n",
        "from tensorflow.keras.preprocessing import image_dataset_from_directory\n",
        "from tensorflow.keras.metrics import Recall\n",
        "from tensorflow.keras.callbacks import EarlyStopping, ReduceLROnPlateau\n",
        "import tensorflow_hub as hub\n",
        "import numpy as np\n",
        "from sklearn.metrics import roc_curve, auc, precision_recall_curve, confusion_matrix, accuracy_score, precision_score, recall_score, f1_score\n",
        "import matplotlib.pyplot as plt\n",
        "from sklearn.model_selection import train_test_split\n",
        "from tensorflow.keras.preprocessing.image import ImageDataGenerator\n",
        "from sklearn.metrics import ConfusionMatrixDisplay\n",
        "\n",
        "print(\"Using TensorFlow version:\", tf.__version__)\n",
        "\n",
        "# Pour reproduire un comportement stable (optionnel)\n",
        "tf.random.set_seed(42)"
      ]
    },
    {
      "cell_type": "markdown",
      "id": "BL4ryDxBlH6X",
      "metadata": {
        "id": "BL4ryDxBlH6X"
      },
      "source": [
        "## 1. Chargement du dataset"
      ]
    },
    {
      "cell_type": "code",
      "execution_count": null,
      "id": "oPdyTXM1lH6X",
      "metadata": {
        "id": "oPdyTXM1lH6X"
      },
      "outputs": [
        {
          "name": "stdout",
          "output_type": "stream",
          "text": [
            "Found 807 images belonging to 2 classes.\n",
            "Found 345 images belonging to 2 classes.\n",
            "Found 1152 images belonging to 2 classes.\n"
          ]
        }
      ],
      "source": [
        "DATA_DIR = \"screw_dataset\"\n",
        "BATCH_SIZE = 32\n",
        "IMG_SIZE = (224, 224)\n",
        "\n",
        "# Data augmentation dynamique avec normalisation intégrée\n",
        "train_datagen = ImageDataGenerator(\n",
        "    rotation_range=30,\n",
        "    fill_mode='nearest',\n",
        "    validation_split=0.3\n",
        ")\n",
        "\n",
        "# Générateur dynamique d'entraînement\n",
        "train_generator = train_datagen.flow_from_directory(\n",
        "    DATA_DIR,\n",
        "    target_size=IMG_SIZE,\n",
        "    batch_size=BATCH_SIZE,\n",
        "    class_mode='binary',\n",
        "    subset='training', \n",
        "    shuffle=True\n",
        ")\n",
        "\n",
        "# Générateur dynamique de validation\n",
        "val_generator = train_datagen.flow_from_directory(\n",
        "    DATA_DIR,\n",
        "    target_size=IMG_SIZE,\n",
        "    batch_size=BATCH_SIZE,\n",
        "    class_mode='binary',\n",
        "    subset='validation',\n",
        "    shuffle=False\n",
        ")\n",
        "\n",
        "# Générateur du set de test (sans augmentation mais normalisé)\n",
        "test_datagen = ImageDataGenerator()\n",
        "test_generator = test_datagen.flow_from_directory(\n",
        "    DATA_DIR,\n",
        "    target_size=IMG_SIZE,\n",
        "    batch_size=BATCH_SIZE,\n",
        "    class_mode='binary',\n",
        "    shuffle=False\n",
        ")\n",
        "\n",
        "# Extraction des données pour évaluation précise\n",
        "\n",
        "def extract_images_labels(generator):\n",
        "    images, labels = [], []\n",
        "    for img_batch, lbl_batch in generator:\n",
        "        images.append(img_batch)\n",
        "        labels.append(lbl_batch)\n",
        "        if len(images) * BATCH_SIZE >= generator.samples:\n",
        "            break\n",
        "    X = np.concatenate(images, axis=0)\n",
        "    y = np.concatenate(labels, axis=0)\n",
        "    return X, y\n",
        "\n",
        "X_train, y_train = extract_images_labels(train_generator)\n",
        "X_val, y_val = extract_images_labels(val_generator)\n",
        "X_test, y_test = extract_images_labels(test_generator)\n",
        "\n",
        "# Création des datasets TensorFlow\n",
        "train_dataset = tf.data.Dataset.from_tensor_slices((X_train, y_train)).batch(BATCH_SIZE)\n",
        "val_dataset = tf.data.Dataset.from_tensor_slices((X_val, y_val)).batch(BATCH_SIZE)\n",
        "test_dataset = tf.data.Dataset.from_tensor_slices((X_test, y_test)).batch(BATCH_SIZE)\n"
      ]
    },
    {
      "cell_type": "markdown",
      "id": "2NRj6R2GlH6Y",
      "metadata": {
        "id": "2NRj6R2GlH6Y"
      },
      "source": [
        "## 2. Définition d'un modèle simple\n",
        "On définit un modèle CNN"
      ]
    },
    {
      "cell_type": "code",
      "execution_count": 12,
      "id": "0Em3Ej3PlH6Y",
      "metadata": {
        "id": "0Em3Ej3PlH6Y"
      },
      "outputs": [
        {
          "data": {
            "text/html": [
              "<pre style=\"white-space:pre;overflow-x:auto;line-height:normal;font-family:Menlo,'DejaVu Sans Mono',consolas,'Courier New',monospace\"><span style=\"font-weight: bold\">Model: \"sequential_2\"</span>\n",
              "</pre>\n"
            ],
            "text/plain": [
              "\u001b[1mModel: \"sequential_2\"\u001b[0m\n"
            ]
          },
          "metadata": {},
          "output_type": "display_data"
        },
        {
          "data": {
            "text/html": [
              "<pre style=\"white-space:pre;overflow-x:auto;line-height:normal;font-family:Menlo,'DejaVu Sans Mono',consolas,'Courier New',monospace\">┏━━━━━━━━━━━━━━━━━━━━━━━━━━━━━━━━━┳━━━━━━━━━━━━━━━━━━━━━━━━┳━━━━━━━━━━━━━━━┓\n",
              "┃<span style=\"font-weight: bold\"> Layer (type)                    </span>┃<span style=\"font-weight: bold\"> Output Shape           </span>┃<span style=\"font-weight: bold\">       Param # </span>┃\n",
              "┡━━━━━━━━━━━━━━━━━━━━━━━━━━━━━━━━━╇━━━━━━━━━━━━━━━━━━━━━━━━╇━━━━━━━━━━━━━━━┩\n",
              "│ vgg16 (<span style=\"color: #0087ff; text-decoration-color: #0087ff\">Functional</span>)              │ (<span style=\"color: #00d7ff; text-decoration-color: #00d7ff\">None</span>, <span style=\"color: #00af00; text-decoration-color: #00af00\">7</span>, <span style=\"color: #00af00; text-decoration-color: #00af00\">7</span>, <span style=\"color: #00af00; text-decoration-color: #00af00\">512</span>)      │    <span style=\"color: #00af00; text-decoration-color: #00af00\">14,714,688</span> │\n",
              "├─────────────────────────────────┼────────────────────────┼───────────────┤\n",
              "│ flatten_1 (<span style=\"color: #0087ff; text-decoration-color: #0087ff\">Flatten</span>)             │ (<span style=\"color: #00d7ff; text-decoration-color: #00d7ff\">None</span>, <span style=\"color: #00af00; text-decoration-color: #00af00\">25088</span>)          │             <span style=\"color: #00af00; text-decoration-color: #00af00\">0</span> │\n",
              "├─────────────────────────────────┼────────────────────────┼───────────────┤\n",
              "│ dense_5 (<span style=\"color: #0087ff; text-decoration-color: #0087ff\">Dense</span>)                 │ (<span style=\"color: #00d7ff; text-decoration-color: #00d7ff\">None</span>, <span style=\"color: #00af00; text-decoration-color: #00af00\">128</span>)            │     <span style=\"color: #00af00; text-decoration-color: #00af00\">3,211,392</span> │\n",
              "├─────────────────────────────────┼────────────────────────┼───────────────┤\n",
              "│ dropout_3 (<span style=\"color: #0087ff; text-decoration-color: #0087ff\">Dropout</span>)             │ (<span style=\"color: #00d7ff; text-decoration-color: #00d7ff\">None</span>, <span style=\"color: #00af00; text-decoration-color: #00af00\">128</span>)            │             <span style=\"color: #00af00; text-decoration-color: #00af00\">0</span> │\n",
              "├─────────────────────────────────┼────────────────────────┼───────────────┤\n",
              "│ dense_6 (<span style=\"color: #0087ff; text-decoration-color: #0087ff\">Dense</span>)                 │ (<span style=\"color: #00d7ff; text-decoration-color: #00d7ff\">None</span>, <span style=\"color: #00af00; text-decoration-color: #00af00\">1</span>)              │           <span style=\"color: #00af00; text-decoration-color: #00af00\">129</span> │\n",
              "└─────────────────────────────────┴────────────────────────┴───────────────┘\n",
              "</pre>\n"
            ],
            "text/plain": [
              "┏━━━━━━━━━━━━━━━━━━━━━━━━━━━━━━━━━┳━━━━━━━━━━━━━━━━━━━━━━━━┳━━━━━━━━━━━━━━━┓\n",
              "┃\u001b[1m \u001b[0m\u001b[1mLayer (type)                   \u001b[0m\u001b[1m \u001b[0m┃\u001b[1m \u001b[0m\u001b[1mOutput Shape          \u001b[0m\u001b[1m \u001b[0m┃\u001b[1m \u001b[0m\u001b[1m      Param #\u001b[0m\u001b[1m \u001b[0m┃\n",
              "┡━━━━━━━━━━━━━━━━━━━━━━━━━━━━━━━━━╇━━━━━━━━━━━━━━━━━━━━━━━━╇━━━━━━━━━━━━━━━┩\n",
              "│ vgg16 (\u001b[38;5;33mFunctional\u001b[0m)              │ (\u001b[38;5;45mNone\u001b[0m, \u001b[38;5;34m7\u001b[0m, \u001b[38;5;34m7\u001b[0m, \u001b[38;5;34m512\u001b[0m)      │    \u001b[38;5;34m14,714,688\u001b[0m │\n",
              "├─────────────────────────────────┼────────────────────────┼───────────────┤\n",
              "│ flatten_1 (\u001b[38;5;33mFlatten\u001b[0m)             │ (\u001b[38;5;45mNone\u001b[0m, \u001b[38;5;34m25088\u001b[0m)          │             \u001b[38;5;34m0\u001b[0m │\n",
              "├─────────────────────────────────┼────────────────────────┼───────────────┤\n",
              "│ dense_5 (\u001b[38;5;33mDense\u001b[0m)                 │ (\u001b[38;5;45mNone\u001b[0m, \u001b[38;5;34m128\u001b[0m)            │     \u001b[38;5;34m3,211,392\u001b[0m │\n",
              "├─────────────────────────────────┼────────────────────────┼───────────────┤\n",
              "│ dropout_3 (\u001b[38;5;33mDropout\u001b[0m)             │ (\u001b[38;5;45mNone\u001b[0m, \u001b[38;5;34m128\u001b[0m)            │             \u001b[38;5;34m0\u001b[0m │\n",
              "├─────────────────────────────────┼────────────────────────┼───────────────┤\n",
              "│ dense_6 (\u001b[38;5;33mDense\u001b[0m)                 │ (\u001b[38;5;45mNone\u001b[0m, \u001b[38;5;34m1\u001b[0m)              │           \u001b[38;5;34m129\u001b[0m │\n",
              "└─────────────────────────────────┴────────────────────────┴───────────────┘\n"
            ]
          },
          "metadata": {},
          "output_type": "display_data"
        },
        {
          "data": {
            "text/html": [
              "<pre style=\"white-space:pre;overflow-x:auto;line-height:normal;font-family:Menlo,'DejaVu Sans Mono',consolas,'Courier New',monospace\"><span style=\"font-weight: bold\"> Total params: </span><span style=\"color: #00af00; text-decoration-color: #00af00\">17,926,209</span> (68.38 MB)\n",
              "</pre>\n"
            ],
            "text/plain": [
              "\u001b[1m Total params: \u001b[0m\u001b[38;5;34m17,926,209\u001b[0m (68.38 MB)\n"
            ]
          },
          "metadata": {},
          "output_type": "display_data"
        },
        {
          "data": {
            "text/html": [
              "<pre style=\"white-space:pre;overflow-x:auto;line-height:normal;font-family:Menlo,'DejaVu Sans Mono',consolas,'Courier New',monospace\"><span style=\"font-weight: bold\"> Trainable params: </span><span style=\"color: #00af00; text-decoration-color: #00af00\">3,211,521</span> (12.25 MB)\n",
              "</pre>\n"
            ],
            "text/plain": [
              "\u001b[1m Trainable params: \u001b[0m\u001b[38;5;34m3,211,521\u001b[0m (12.25 MB)\n"
            ]
          },
          "metadata": {},
          "output_type": "display_data"
        },
        {
          "data": {
            "text/html": [
              "<pre style=\"white-space:pre;overflow-x:auto;line-height:normal;font-family:Menlo,'DejaVu Sans Mono',consolas,'Courier New',monospace\"><span style=\"font-weight: bold\"> Non-trainable params: </span><span style=\"color: #00af00; text-decoration-color: #00af00\">14,714,688</span> (56.13 MB)\n",
              "</pre>\n"
            ],
            "text/plain": [
              "\u001b[1m Non-trainable params: \u001b[0m\u001b[38;5;34m14,714,688\u001b[0m (56.13 MB)\n"
            ]
          },
          "metadata": {},
          "output_type": "display_data"
        }
      ],
      "source": [
        "#encodeur\n",
        "\n",
        "# Charger VGG16 pré-entraîné\n",
        "base_model = applications.VGG16(weights='imagenet', include_top=False, input_shape=(224, 224, 3))\n",
        "base_model.trainable = False  # On fige les poids du VGG16\n",
        "\n",
        "model = models.Sequential([\n",
        "\n",
        "    base_model,\n",
        "    layers.Flatten(),\n",
        "    layers.Dense(128, activation='relu'),\n",
        "    layers.Dropout(0.4),\n",
        "    layers.Dense(1, activation='sigmoid')\n",
        "])\n",
        "\n",
        "model.compile(\n",
        "    optimizer=tf.keras.optimizers.Adam(learning_rate=0.0005),\n",
        "    loss='binary_crossentropy',\n",
        "    metrics = ['accuracy', tf.keras.metrics.Recall(name='recall')]\n",
        ")\n",
        "\n",
        "model.summary()"
      ]
    },
    {
      "cell_type": "markdown",
      "id": "PnYnBDv0lH6Z",
      "metadata": {
        "id": "PnYnBDv0lH6Z"
      },
      "source": [
        "## 3. Entraînement du modèle"
      ]
    },
    {
      "cell_type": "code",
      "execution_count": null,
      "id": "V4q_eeIZlH6Z",
      "metadata": {
        "id": "V4q_eeIZlH6Z"
      },
      "outputs": [
        {
          "name": "stdout",
          "output_type": "stream",
          "text": [
            "Epoch 1/50\n",
            "\u001b[1m26/26\u001b[0m \u001b[32m━━━━━━━━━━━━━━━━━━━━\u001b[0m\u001b[37m\u001b[0m \u001b[1m0s\u001b[0m 14s/step - accuracy: 0.6628 - loss: 1.9842 - recall: 0.8345 "
          ]
        },
        {
          "name": "stderr",
          "output_type": "stream",
          "text": [
            "/Users/christel/Desktop/HETIC/gestion_situation_crise/Screw/venv/lib/python3.11/site-packages/keras/src/trainers/data_adapters/py_dataset_adapter.py:121: UserWarning: Your `PyDataset` class should call `super().__init__(**kwargs)` in its constructor. `**kwargs` can include `workers`, `use_multiprocessing`, `max_queue_size`. Do not pass these arguments to `fit()`, as they will be ignored.\n",
            "  self._warn_if_super_not_called()\n"
          ]
        },
        {
          "name": "stdout",
          "output_type": "stream",
          "text": [
            "\u001b[1m26/26\u001b[0m \u001b[32m━━━━━━━━━━━━━━━━━━━━\u001b[0m\u001b[37m\u001b[0m \u001b[1m524s\u001b[0m 20s/step - accuracy: 0.6644 - loss: 1.9676 - recall: 0.8376 - val_accuracy: 0.7536 - val_loss: 0.5834 - val_recall: 1.0000 - learning_rate: 5.0000e-04\n",
            "Epoch 2/50\n",
            "\u001b[1m26/26\u001b[0m \u001b[32m━━━━━━━━━━━━━━━━━━━━\u001b[0m\u001b[37m\u001b[0m \u001b[1m431s\u001b[0m 17s/step - accuracy: 0.7600 - loss: 0.8050 - recall: 0.9803 - val_accuracy: 0.7536 - val_loss: 0.5789 - val_recall: 1.0000 - learning_rate: 5.0000e-04\n",
            "Epoch 3/50\n",
            "\u001b[1m26/26\u001b[0m \u001b[32m━━━━━━━━━━━━━━━━━━━━\u001b[0m\u001b[37m\u001b[0m \u001b[1m425s\u001b[0m 16s/step - accuracy: 0.7715 - loss: 0.7208 - recall: 1.0000 - val_accuracy: 0.7536 - val_loss: 0.6389 - val_recall: 1.0000 - learning_rate: 5.0000e-04\n",
            "Epoch 4/50\n",
            "\u001b[1m26/26\u001b[0m \u001b[32m━━━━━━━━━━━━━━━━━━━━\u001b[0m\u001b[37m\u001b[0m \u001b[1m436s\u001b[0m 17s/step - accuracy: 0.7731 - loss: 0.6566 - recall: 1.0000 - val_accuracy: 0.7507 - val_loss: 0.5631 - val_recall: 0.9962 - learning_rate: 5.0000e-04\n",
            "Epoch 5/50\n",
            "\u001b[1m26/26\u001b[0m \u001b[32m━━━━━━━━━━━━━━━━━━━━\u001b[0m\u001b[37m\u001b[0m \u001b[1m0s\u001b[0m 14s/step - accuracy: 0.7743 - loss: 0.6623 - recall: 0.9956 "
          ]
        }
      ],
      "source": [
        "# Callbacks\n",
        "early_stopping = EarlyStopping(\n",
        "    monitor='val_loss',\n",
        "    patience=5,\n",
        "    restore_best_weights=True\n",
        ")\n",
        "\n",
        "reduce_lr = ReduceLROnPlateau(\n",
        "    monitor='val_loss',\n",
        "    factor=0.5,       # Réduction du LR par un facteur de 2\n",
        "    patience=3,       # Attendre 3 époques sans amélioration avant de réduire\n",
        "    min_delta=0.001,  # Seuil minimum de variation pour considérer une amélioration\n",
        "    min_lr=1e-6       # LR minimum pour éviter d'aller trop bas\n",
        ")\n",
        "\n",
        "class_weights = {0: 1., 1: 2.35}\n",
        "\n",
        "# Entraînement\n",
        "history = model.fit(\n",
        "    train_dataset,\n",
        "    epochs=50,\n",
        "    validation_data=val_generator, \n",
        "    callbacks=[early_stopping, reduce_lr],\n",
        "    class_weight=class_weights, \n",
        "    verbose=1\n",
        ")"
      ]
    },
    {
      "cell_type": "code",
      "execution_count": 9,
      "id": "1b3be59e",
      "metadata": {},
      "outputs": [
        {
          "name": "stdout",
          "output_type": "stream",
          "text": [
            "\u001b[1m2/2\u001b[0m \u001b[32m━━━━━━━━━━━━━━━━━━━━\u001b[0m\u001b[37m\u001b[0m \u001b[1m2s\u001b[0m 629ms/step\n",
            "\u001b[1m2/2\u001b[0m \u001b[32m━━━━━━━━━━━━━━━━━━━━\u001b[0m\u001b[37m\u001b[0m \u001b[1m1s\u001b[0m 679ms/step\n",
            "\u001b[1m2/2\u001b[0m \u001b[32m━━━━━━━━━━━━━━━━━━━━\u001b[0m\u001b[37m\u001b[0m \u001b[1m1s\u001b[0m 675ms/step\n",
            "\u001b[1m2/2\u001b[0m \u001b[32m━━━━━━━━━━━━━━━━━━━━\u001b[0m\u001b[37m\u001b[0m \u001b[1m1s\u001b[0m 649ms/step\n",
            "\u001b[1m2/2\u001b[0m \u001b[32m━━━━━━━━━━━━━━━━━━━━\u001b[0m\u001b[37m\u001b[0m \u001b[1m1s\u001b[0m 697ms/step\n",
            "\u001b[1m1/1\u001b[0m \u001b[32m━━━━━━━━━━━━━━━━━━━━\u001b[0m\u001b[37m\u001b[0m \u001b[1m1s\u001b[0m 671ms/step\n",
            "✅ Seuil optimal pour Recall ≥ 99.0% : 0.7000\n"
          ]
        },
        {
          "name": "stderr",
          "output_type": "stream",
          "text": [
            "2025-03-20 11:12:55.663586: W tensorflow/core/framework/local_rendezvous.cc:404] Local rendezvous is aborting with status: OUT_OF_RANGE: End of sequence\n"
          ]
        },
        {
          "data": {
            "image/png": "[encoded data removed]",
            "text/plain": [
              "<Figure size 800x600 with 2 Axes>"
            ]
          },
          "metadata": {},
          "output_type": "display_data"
        },
        {
          "data": {
            "image/png": "[encoded data removed]",
            "text/plain": [
              "<Figure size 800x600 with 1 Axes>"
            ]
          },
          "metadata": {},
          "output_type": "display_data"
        }
      ],
      "source": [
        "# Ajout de la courbe ROC, AUC et Precision-Recall après l'entraînement\n",
        "\n",
        "y_true = []\n",
        "y_scores = []\n",
        "\n",
        "# On extrait les prédictions et les vraies valeurs une seule fois clairement :\n",
        "for x_batch, y_batch in val_dataset:\n",
        "    y_true.extend(y_batch.numpy())  \n",
        "    y_scores.extend(model.predict(x_batch).flatten())  \n",
        "\n",
        "y_true = np.array(y_true)\n",
        "y_scores = np.array(y_scores)\n",
        "\n",
        "# Calcul de la courbe ROC\n",
        "fpr, tpr, roc_thresholds = roc_curve(y_true, y_scores)\n",
        "roc_auc = auc(fpr, tpr)\n",
        "\n",
        "# Calcul de la courbe Precision-Recall pour seuil optimal selon Recall minimal\n",
        "precision, recall, pr_thresholds = precision_recall_curve(y_true, y_scores)\n",
        "\n",
        "# On fixe un Recall minimum (99% pour protéger au maximum la réputation)\n",
        "recall_min = 0.99\n",
        "\n",
        "# Trouver le seuil optimal correspondant au Recall minimal requis\n",
        "optimal_threshold = pr_thresholds[np.where(recall >= recall_min)[0][-1]]\n",
        "\n",
        "optimal_threshold = 0.7\n",
        "\n",
        "print(f\"✅ Seuil optimal pour Recall ≥ {recall_min*100:.1f}% : {optimal_threshold:.4f}\")\n",
        "\n",
        "# Prédictions finales avec seuil optimal\n",
        "y_pred_optimal = (y_scores >= optimal_threshold).astype(int)\n",
        "\n",
        "# Calcul et affichage clair de la matrice de confusion\n",
        "cm = confusion_matrix(y_true, y_pred_optimal)\n",
        "disp = ConfusionMatrixDisplay(confusion_matrix=cm, display_labels=['Classe 0 (OK)', 'Classe 1 (Défaut)'])\n",
        "\n",
        "plt.figure(figsize=(8,6))\n",
        "disp.plot(cmap='Blues', values_format='d', ax=plt.gca())\n",
        "plt.title('Matrice de Confusion sur Validation (Seuil optimal)')\n",
        "plt.show()\n",
        "\n",
        "# Affichage de la courbe ROC\n",
        "plt.figure(figsize=(8, 6))\n",
        "plt.plot(fpr, tpr, color='blue', label=f'ROC curve (AUC = {roc_auc:.2f})')\n",
        "plt.plot([0, 1], [0, 1], color='gray', linestyle='--')\n",
        "plt.xlabel('False Positive Rate')\n",
        "plt.ylabel('True Positive Rate')\n",
        "plt.title('Courbe ROC')\n",
        "plt.legend(loc='lower right')\n",
        "plt.show()\n",
        "\n",
        "\n"
      ]
    },
    {
      "cell_type": "markdown",
      "id": "IquuiFNIlH6a",
      "metadata": {
        "id": "IquuiFNIlH6a"
      },
      "source": [
        "## 4. Évaluation sur le même dataset"
      ]
    },
    {
      "cell_type": "code",
      "execution_count": 11,
      "id": "EFp7dBImlH6a",
      "metadata": {
        "id": "EFp7dBImlH6a"
      },
      "outputs": [
        {
          "name": "stdout",
          "output_type": "stream",
          "text": [
            "\u001b[1m36/36\u001b[0m \u001b[32m━━━━━━━━━━━━━━━━━━━━\u001b[0m\u001b[37m\u001b[0m \u001b[1m26s\u001b[0m 703ms/step\n",
            "Accuracy avec seuil optimal (0.7000) : 0.7526\n",
            "Précision : 0.7526\n",
            "Recall : 1.0000\n",
            "F1-score : 0.8588\n"
          ]
        }
      ],
      "source": [
        "# Obtenir les probabilités des prédictions sur le test set\n",
        "y_scores_test = model.predict(X_test).flatten()  # Sorties sigmoïdes entre 0 et 1\n",
        "\n",
        "# Appliquer le seuil optimal trouvé avec la courbe ROC  \n",
        "y_pred_test = (y_scores_test >= optimal_threshold).astype(int)\n",
        "\n",
        "# Calcul des métriques\n",
        "accuracy = accuracy_score(y_test, y_pred_test)\n",
        "precision = precision_score(y_test, y_pred_test)\n",
        "recall = recall_score(y_test, y_pred_test)\n",
        "f1 = f1_score(y_test, y_pred_test)  # Ajout du F1-score\n",
        "\n",
        "# Affichage des résultats\n",
        "print(f\"Accuracy avec seuil optimal ({optimal_threshold:.4f}) : {accuracy:.4f}\")\n",
        "print(f\"Précision : {precision:.4f}\")\n",
        "print(f\"Recall : {recall:.4f}\")\n",
        "print(f\"F1-score : {f1:.4f}\")"
      ]
    }
  ],
  "metadata": {
    "colab": {
      "provenance": []
    },
    "kernelspec": {
      "display_name": "venv",
      "language": "python",
      "name": "python3"
    },
    "language_info": {
      "codemirror_mode": {
        "name": "ipython",
        "version": 3
      },
      "file_extension": ".py",
      "mimetype": "text/x-python",
      "name": "python",
      "nbconvert_exporter": "python",
      "pygments_lexer": "ipython3",
      "version": "3.11.10"
    },
    "name": "bad_training"
  },
  "nbformat": 4,
  "nbformat_minor": 5
}
