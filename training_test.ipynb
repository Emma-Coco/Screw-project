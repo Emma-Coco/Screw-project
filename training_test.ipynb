{
  "cells": [
    {
      "cell_type": "code",
      "execution_count": 11,
      "id": "kbuJwbDWlH6V",
      "metadata": {
        "id": "kbuJwbDWlH6V"
      },
      "outputs": [
        {
          "name": "stdout",
          "output_type": "stream",
          "text": [
            "Using TensorFlow version: 2.19.0\n"
          ]
        }
      ],
      "source": [
        "import os\n",
        "import tensorflow as tf\n",
        "from tensorflow.keras import layers, models, optimizers, regularizers \n",
        "from tensorflow.keras.preprocessing import image_dataset_from_directory\n",
        "from tensorflow.keras.callbacks import EarlyStopping, ReduceLROnPlateau\n",
        "from tensorflow.keras.applications.vgg16 import VGG16, preprocess_input\n",
        "\n",
        "\n",
        "import numpy as np\n",
        "from sklearn.metrics import roc_curve, auc, precision_recall_curve, confusion_matrix, accuracy_score, precision_score, recall_score, f1_score\n",
        "import matplotlib.pyplot as plt\n",
        "from sklearn.model_selection import train_test_split, StratifiedKFold\n",
        "from sklearn.metrics import ConfusionMatrixDisplay\n",
        "import random\n",
        "\n",
        "print(\"Using TensorFlow version:\", tf.__version__)\n",
        "\n",
        "# Pour reproduire un comportement stable (optionnel)\n",
        "tf.random.set_seed(42)"
      ]
    },
    {
      "cell_type": "markdown",
      "id": "BL4ryDxBlH6X",
      "metadata": {
        "id": "BL4ryDxBlH6X"
      },
      "source": [
        "## 1. Chargement du dataset"
      ]
    },
    {
      "cell_type": "code",
      "execution_count": null,
      "id": "oPdyTXM1lH6X",
      "metadata": {
        "id": "oPdyTXM1lH6X"
      },
      "outputs": [
        {
          "name": "stdout",
          "output_type": "stream",
          "text": [
            "Chargement des images...\n",
            "Found 1152 files belonging to 2 classes.\n",
            "Nombre d'images 'bad' avant augmentation: 199\n",
            "Nombre d'images 'good' avant augmentation: 607\n"
          ]
        }
      ],
      "source": [
        "\n",
        "\n",
        "# Configuration\n",
        "DATA_DIR = \"screw_dataset\"\n",
        "BATCH_SIZE = 32\n",
        "IMG_SIZE = (224, 224)\n",
        "SEED = 42\n",
        "\n",
        "# Fonctions de transformation\n",
        "def rotate_image(image, angle_degrees):\n",
        "    return tf.image.rot90(\n",
        "        image, \n",
        "        k=int(round(angle_degrees / 90)) % 4\n",
        "    )\n",
        "\n",
        "def specialized_augmentation(image):\n",
        "    \"\"\"\n",
        "    Augmentations simulant des défauts réels\n",
        "    \"\"\"\n",
        "    transforms = [\n",
        "        # Simulation de rayures\n",
        "        lambda img: tf.image.adjust_contrast(img, random.uniform(1.5, 2.5)),\n",
        "        \n",
        "        # Variations de géométrie du filetage\n",
        "        lambda img: rotate_image(img, random.choice([-10, 10])),\n",
        "        \n",
        "        # Simulation d'imperfections de surface\n",
        "        lambda img: tf.image.random_brightness(img, max_delta=0.2),\n",
        "        \n",
        "        # Variations de texture\n",
        "        lambda img: tf.image.adjust_saturation(img, random.uniform(0.5, 2.0))\n",
        "    ]\n",
        "    \n",
        "    # Combiner aléatoirement les transformations\n",
        "    selected_transforms = random.sample(transforms, random.randint(1, 2))\n",
        "    \n",
        "    transformed = image\n",
        "    for transform in selected_transforms:\n",
        "        transformed = transform(transformed)\n",
        "    \n",
        "    return tf.clip_by_value(transformed, 0.0, 1.0)\n",
        "\n",
        "# Focal Loss pour gérer le déséquilibre des classes\n",
        "def focal_loss(gamma=2., alpha=.25):\n",
        "    def focal_loss_fixed(y_true, y_pred):\n",
        "        pt_1 = tf.where(tf.equal(y_true, 1), y_pred, tf.ones_like(y_pred))\n",
        "        pt_0 = tf.where(tf.equal(y_true, 0), y_pred, tf.zeros_like(y_pred))\n",
        "        return -tf.reduce_sum(alpha * tf.pow(1. - pt_1, gamma) * tf.math.log(pt_1)) \\\n",
        "               -tf.reduce_sum((1 - alpha) * tf.pow(pt_0, gamma) * tf.math.log(1. - pt_0))\n",
        "    return focal_loss_fixed\n",
        "\n",
        "# Fonction de data augmentation\n",
        "def data_augmentation(X_train, y_train, BATCH_SIZE=32):\n",
        "    # Trouver les indices des images \"bad\" et \"good\"\n",
        "    bad_indices = np.where(y_train[:, 0] == 0)[0]\n",
        "    good_indices = np.where(y_train[:, 0] == 1)[0]\n",
        "    \n",
        "    X_bad = X_train[bad_indices]\n",
        "    X_good = X_train[good_indices]\n",
        "\n",
        "    print(f\"Nombre d'images 'bad' avant augmentation: {len(X_bad)}\")\n",
        "    print(f\"Nombre d'images 'good' avant augmentation: {len(X_good)}\")\n",
        "\n",
        "    # Générer des images augmentées\n",
        "    X_bad_augmented = []\n",
        "    y_bad_augmented = []\n",
        "\n",
        "    # Générer des augmentations jusqu'à atteindre le nombre d'images 'good'\n",
        "    np.random.seed(42)\n",
        "    remaining_count = len(X_good)\n",
        "    \n",
        "    while len(X_bad_augmented) < remaining_count:\n",
        "        # Choisir une image source\n",
        "        img_source = X_bad[len(X_bad_augmented) % len(X_bad)]\n",
        "        \n",
        "        # Appliquer la transformation\n",
        "        transformed_img = specialized_augmentation(img_source)\n",
        "        \n",
        "        # Ajouter l'image\n",
        "        X_bad_augmented.append(transformed_img.numpy())\n",
        "        y_bad_augmented.append(0)\n",
        "\n",
        "    # Convertir en arrays numpy\n",
        "    X_bad_augmented = np.array(X_bad_augmented)\n",
        "    y_bad_augmented = np.array(y_bad_augmented).reshape(-1, 1)\n",
        "\n",
        "    # Combiner avec les images \"good\"\n",
        "    X_train_balanced = np.concatenate([X_good, X_bad_augmented])\n",
        "    y_train_balanced = np.concatenate([\n",
        "        y_train[good_indices], \n",
        "        y_bad_augmented\n",
        "    ])\n",
        "\n",
        "    # Mélanger le nouvel ensemble d'entraînement\n",
        "    indices = np.arange(len(X_train_balanced))\n",
        "    np.random.shuffle(indices)\n",
        "    X_train_balanced = X_train_balanced[indices]\n",
        "    y_train_balanced = y_train_balanced[indices]\n",
        "\n",
        "    # Créer un nouveau dataset TensorFlow\n",
        "    train_dataset_balanced = tf.data.Dataset.from_tensor_slices((X_train_balanced, y_train_balanced))\n",
        "    train_dataset_balanced = train_dataset_balanced.shuffle(buffer_size=len(X_train_balanced)).batch(BATCH_SIZE)\n",
        "\n",
        "    return X_train_balanced, y_train_balanced, train_dataset_balanced\n",
        "\n",
        "# Préparation des données\n",
        "# Charger les images\n",
        "\n",
        "print(\"Chargement des images...\")\n",
        "dataset = image_dataset_from_directory(\n",
        "    DATA_DIR,\n",
        "    labels='inferred',\n",
        "    label_mode='binary',\n",
        "    batch_size=BATCH_SIZE,\n",
        "    image_size=IMG_SIZE,\n",
        "    shuffle=False\n",
        ")\n",
        "\n",
        "# Extraction des images et labels\n",
        "all_images = []\n",
        "all_labels = []\n",
        "for images, labels in dataset:\n",
        "    all_images.append(images.numpy())\n",
        "    all_labels.append(labels.numpy())\n",
        "\n",
        "X = np.concatenate(all_images, axis=0)\n",
        "y = np.concatenate(all_labels, axis=0)\n",
        "\n",
        "# Mélange des données\n",
        "indices = np.arange(X.shape[0])\n",
        "np.random.seed(SEED)\n",
        "np.random.shuffle(indices)\n",
        "X_shuffled = X[indices]\n",
        "y_shuffled = y[indices]\n",
        "\n",
        "# Division train/validation/test\n",
        "from sklearn.model_selection import train_test_split\n",
        "\n",
        "X_train, X_temp, y_train, y_temp = train_test_split(\n",
        "    X_shuffled, y_shuffled, train_size=0.7, stratify=y_shuffled, random_state=SEED\n",
        ")\n",
        "\n",
        "X_val, X_test, y_val, y_test = train_test_split(\n",
        "    X_temp, y_temp, train_size=0.5, stratify=y_temp, random_state=SEED\n",
        ")\n",
        "\n",
        "# Data augmentation\n",
        "X_train_balanced, y_train_balanced, train_dataset = data_augmentation(X_train, y_train.reshape(-1, 1), BATCH_SIZE)\n",
        "\n",
        "# Création des datasets de validation et test\n",
        "val_dataset = tf.data.Dataset.from_tensor_slices((X_val, y_val)).batch(BATCH_SIZE)\n",
        "test_dataset = tf.data.Dataset.from_tensor_slices((X_test, y_test)).batch(BATCH_SIZE)\n"
      ]
    },
    {
      "cell_type": "markdown",
      "id": "2NRj6R2GlH6Y",
      "metadata": {
        "id": "2NRj6R2GlH6Y"
      },
      "source": [
        "## 2. Définition d'un modèle simple\n",
        "On définit un modèle CNN"
      ]
    },
    {
      "cell_type": "code",
      "execution_count": 13,
      "id": "0Em3Ej3PlH6Y",
      "metadata": {
        "id": "0Em3Ej3PlH6Y"
      },
      "outputs": [
        {
          "name": "stderr",
          "output_type": "stream",
          "text": [
            "c:\\Users\\hlern\\Desktop\\Hetic_Screw_Project\\Hl_Branch\\venv\\Lib\\site-packages\\keras\\src\\layers\\core\\lambda_layer.py:65: UserWarning: Do not pass an `input_shape`/`input_dim` argument to a layer. When using Sequential models, prefer using an `Input(shape)` object as the first layer in the model instead.\n",
            "  super().__init__(**kwargs)\n"
          ]
        },
        {
          "data": {
            "text/html": [
              "<pre style=\"white-space:pre;overflow-x:auto;line-height:normal;font-family:Menlo,'DejaVu Sans Mono',consolas,'Courier New',monospace\"><span style=\"font-weight: bold\">Model: \"sequential_5\"</span>\n",
              "</pre>\n"
            ],
            "text/plain": [
              "\u001b[1mModel: \"sequential_5\"\u001b[0m\n"
            ]
          },
          "metadata": {},
          "output_type": "display_data"
        },
        {
          "data": {
            "text/html": [
              "<pre style=\"white-space:pre;overflow-x:auto;line-height:normal;font-family:Menlo,'DejaVu Sans Mono',consolas,'Courier New',monospace\">┏━━━━━━━━━━━━━━━━━━━━━━━━━━━━━━━━━┳━━━━━━━━━━━━━━━━━━━━━━━━┳━━━━━━━━━━━━━━━┓\n",
              "┃<span style=\"font-weight: bold\"> Layer (type)                    </span>┃<span style=\"font-weight: bold\"> Output Shape           </span>┃<span style=\"font-weight: bold\">       Param # </span>┃\n",
              "┡━━━━━━━━━━━━━━━━━━━━━━━━━━━━━━━━━╇━━━━━━━━━━━━━━━━━━━━━━━━╇━━━━━━━━━━━━━━━┩\n",
              "│ sequential_4 (<span style=\"color: #0087ff; text-decoration-color: #0087ff\">Sequential</span>)       │ (<span style=\"color: #00d7ff; text-decoration-color: #00d7ff\">None</span>, <span style=\"color: #00af00; text-decoration-color: #00af00\">7</span>, <span style=\"color: #00af00; text-decoration-color: #00af00\">7</span>, <span style=\"color: #00af00; text-decoration-color: #00af00\">512</span>)      │    <span style=\"color: #00af00; text-decoration-color: #00af00\">14,714,688</span> │\n",
              "├─────────────────────────────────┼────────────────────────┼───────────────┤\n",
              "│ flatten_2 (<span style=\"color: #0087ff; text-decoration-color: #0087ff\">Flatten</span>)             │ (<span style=\"color: #00d7ff; text-decoration-color: #00d7ff\">None</span>, <span style=\"color: #00af00; text-decoration-color: #00af00\">25088</span>)          │             <span style=\"color: #00af00; text-decoration-color: #00af00\">0</span> │\n",
              "├─────────────────────────────────┼────────────────────────┼───────────────┤\n",
              "│ dense_4 (<span style=\"color: #0087ff; text-decoration-color: #0087ff\">Dense</span>)                 │ (<span style=\"color: #00d7ff; text-decoration-color: #00d7ff\">None</span>, <span style=\"color: #00af00; text-decoration-color: #00af00\">128</span>)            │     <span style=\"color: #00af00; text-decoration-color: #00af00\">3,211,392</span> │\n",
              "├─────────────────────────────────┼────────────────────────┼───────────────┤\n",
              "│ dropout_2 (<span style=\"color: #0087ff; text-decoration-color: #0087ff\">Dropout</span>)             │ (<span style=\"color: #00d7ff; text-decoration-color: #00d7ff\">None</span>, <span style=\"color: #00af00; text-decoration-color: #00af00\">128</span>)            │             <span style=\"color: #00af00; text-decoration-color: #00af00\">0</span> │\n",
              "├─────────────────────────────────┼────────────────────────┼───────────────┤\n",
              "│ dense_5 (<span style=\"color: #0087ff; text-decoration-color: #0087ff\">Dense</span>)                 │ (<span style=\"color: #00d7ff; text-decoration-color: #00d7ff\">None</span>, <span style=\"color: #00af00; text-decoration-color: #00af00\">1</span>)              │           <span style=\"color: #00af00; text-decoration-color: #00af00\">129</span> │\n",
              "└─────────────────────────────────┴────────────────────────┴───────────────┘\n",
              "</pre>\n"
            ],
            "text/plain": [
              "┏━━━━━━━━━━━━━━━━━━━━━━━━━━━━━━━━━┳━━━━━━━━━━━━━━━━━━━━━━━━┳━━━━━━━━━━━━━━━┓\n",
              "┃\u001b[1m \u001b[0m\u001b[1mLayer (type)                   \u001b[0m\u001b[1m \u001b[0m┃\u001b[1m \u001b[0m\u001b[1mOutput Shape          \u001b[0m\u001b[1m \u001b[0m┃\u001b[1m \u001b[0m\u001b[1m      Param #\u001b[0m\u001b[1m \u001b[0m┃\n",
              "┡━━━━━━━━━━━━━━━━━━━━━━━━━━━━━━━━━╇━━━━━━━━━━━━━━━━━━━━━━━━╇━━━━━━━━━━━━━━━┩\n",
              "│ sequential_4 (\u001b[38;5;33mSequential\u001b[0m)       │ (\u001b[38;5;45mNone\u001b[0m, \u001b[38;5;34m7\u001b[0m, \u001b[38;5;34m7\u001b[0m, \u001b[38;5;34m512\u001b[0m)      │    \u001b[38;5;34m14,714,688\u001b[0m │\n",
              "├─────────────────────────────────┼────────────────────────┼───────────────┤\n",
              "│ flatten_2 (\u001b[38;5;33mFlatten\u001b[0m)             │ (\u001b[38;5;45mNone\u001b[0m, \u001b[38;5;34m25088\u001b[0m)          │             \u001b[38;5;34m0\u001b[0m │\n",
              "├─────────────────────────────────┼────────────────────────┼───────────────┤\n",
              "│ dense_4 (\u001b[38;5;33mDense\u001b[0m)                 │ (\u001b[38;5;45mNone\u001b[0m, \u001b[38;5;34m128\u001b[0m)            │     \u001b[38;5;34m3,211,392\u001b[0m │\n",
              "├─────────────────────────────────┼────────────────────────┼───────────────┤\n",
              "│ dropout_2 (\u001b[38;5;33mDropout\u001b[0m)             │ (\u001b[38;5;45mNone\u001b[0m, \u001b[38;5;34m128\u001b[0m)            │             \u001b[38;5;34m0\u001b[0m │\n",
              "├─────────────────────────────────┼────────────────────────┼───────────────┤\n",
              "│ dense_5 (\u001b[38;5;33mDense\u001b[0m)                 │ (\u001b[38;5;45mNone\u001b[0m, \u001b[38;5;34m1\u001b[0m)              │           \u001b[38;5;34m129\u001b[0m │\n",
              "└─────────────────────────────────┴────────────────────────┴───────────────┘\n"
            ]
          },
          "metadata": {},
          "output_type": "display_data"
        },
        {
          "data": {
            "text/html": [
              "<pre style=\"white-space:pre;overflow-x:auto;line-height:normal;font-family:Menlo,'DejaVu Sans Mono',consolas,'Courier New',monospace\"><span style=\"font-weight: bold\"> Total params: </span><span style=\"color: #00af00; text-decoration-color: #00af00\">17,926,209</span> (68.38 MB)\n",
              "</pre>\n"
            ],
            "text/plain": [
              "\u001b[1m Total params: \u001b[0m\u001b[38;5;34m17,926,209\u001b[0m (68.38 MB)\n"
            ]
          },
          "metadata": {},
          "output_type": "display_data"
        },
        {
          "data": {
            "text/html": [
              "<pre style=\"white-space:pre;overflow-x:auto;line-height:normal;font-family:Menlo,'DejaVu Sans Mono',consolas,'Courier New',monospace\"><span style=\"font-weight: bold\"> Trainable params: </span><span style=\"color: #00af00; text-decoration-color: #00af00\">3,211,521</span> (12.25 MB)\n",
              "</pre>\n"
            ],
            "text/plain": [
              "\u001b[1m Trainable params: \u001b[0m\u001b[38;5;34m3,211,521\u001b[0m (12.25 MB)\n"
            ]
          },
          "metadata": {},
          "output_type": "display_data"
        },
        {
          "data": {
            "text/html": [
              "<pre style=\"white-space:pre;overflow-x:auto;line-height:normal;font-family:Menlo,'DejaVu Sans Mono',consolas,'Courier New',monospace\"><span style=\"font-weight: bold\"> Non-trainable params: </span><span style=\"color: #00af00; text-decoration-color: #00af00\">14,714,688</span> (56.13 MB)\n",
              "</pre>\n"
            ],
            "text/plain": [
              "\u001b[1m Non-trainable params: \u001b[0m\u001b[38;5;34m14,714,688\u001b[0m (56.13 MB)\n"
            ]
          },
          "metadata": {},
          "output_type": "display_data"
        }
      ],
      "source": [
        "#encodeur\n",
        "\n",
        "# Charger VGG16 pré-entraîné\n",
        "base_model = models.Sequential([\n",
        "    layers.Lambda(preprocess_input, input_shape=(224, 224, 3)),  # Pré-processing intégré\n",
        "    VGG16(weights='imagenet', include_top=False, input_shape=(224, 224, 3))\n",
        "])\n",
        "base_model.trainable = False  # On fige les poids du VGG16\n",
        "\n",
        "model = models.Sequential([\n",
        "\n",
        "    base_model,\n",
        "    layers.Flatten(),\n",
        "    layers.Dense(128, activation='relu', kernel_regularizer=tf.keras.regularizers.l2(0.001)),\n",
        "    layers.Dropout(0.5),\n",
        "    layers.Dense(1, activation='sigmoid')\n",
        "])\n",
        "\n",
        "model.compile(\n",
        "    optimizer=tf.keras.optimizers.Adam(learning_rate=0.0001),\n",
        "    loss='binary_crossentropy',\n",
        "    metrics = ['accuracy', tf.keras.metrics.Recall(name='recall')]\n",
        ")\n",
        "\n",
        "model.summary()"
      ]
    },
    {
      "cell_type": "markdown",
      "id": "PnYnBDv0lH6Z",
      "metadata": {
        "id": "PnYnBDv0lH6Z"
      },
      "source": [
        "## 3. Entraînement du modèle"
      ]
    },
    {
      "cell_type": "code",
      "execution_count": null,
      "id": "V4q_eeIZlH6Z",
      "metadata": {
        "id": "V4q_eeIZlH6Z"
      },
      "outputs": [
        {
          "name": "stdout",
          "output_type": "stream",
          "text": [
            "Epoch 1/50\n",
            "\u001b[1m38/38\u001b[0m \u001b[32m━━━━━━━━━━━━━━━━━━━━\u001b[0m\u001b[37m\u001b[0m \u001b[1m29s\u001b[0m 751ms/step - accuracy: 0.4935 - loss: 1.3011 - recall: 0.5166 - val_accuracy: 0.7514 - val_loss: 0.7586 - val_recall: 1.0000 - learning_rate: 1.0000e-04\n",
            "Epoch 2/50\n",
            "\u001b[1m38/38\u001b[0m \u001b[32m━━━━━━━━━━━━━━━━━━━━\u001b[0m\u001b[37m\u001b[0m \u001b[1m29s\u001b[0m 770ms/step - accuracy: 0.5280 - loss: 0.8187 - recall: 0.5644 - val_accuracy: 0.2486 - val_loss: 0.7697 - val_recall: 0.0000e+00 - learning_rate: 1.0000e-04\n",
            "Epoch 3/50\n",
            "\u001b[1m38/38\u001b[0m \u001b[32m━━━━━━━━━━━━━━━━━━━━\u001b[0m\u001b[37m\u001b[0m \u001b[1m29s\u001b[0m 757ms/step - accuracy: 0.5333 - loss: 0.7410 - recall: 0.6410 - val_accuracy: 0.2486 - val_loss: 0.7576 - val_recall: 0.0000e+00 - learning_rate: 1.0000e-04\n",
            "Epoch 4/50\n",
            "\u001b[1m38/38\u001b[0m \u001b[32m━━━━━━━━━━━━━━━━━━━━\u001b[0m\u001b[37m\u001b[0m \u001b[1m28s\u001b[0m 743ms/step - accuracy: 0.4982 - loss: 0.7147 - recall: 0.4222 - val_accuracy: 0.7399 - val_loss: 0.6841 - val_recall: 0.9769 - learning_rate: 1.0000e-04\n",
            "Epoch 5/50\n",
            "\u001b[1m38/38\u001b[0m \u001b[32m━━━━━━━━━━━━━━━━━━━━\u001b[0m\u001b[37m\u001b[0m \u001b[1m28s\u001b[0m 746ms/step - accuracy: 0.4651 - loss: 0.7060 - recall: 0.6449 - val_accuracy: 0.3237 - val_loss: 0.7023 - val_recall: 0.1231 - learning_rate: 1.0000e-04\n",
            "Epoch 6/50\n",
            "\u001b[1m38/38\u001b[0m \u001b[32m━━━━━━━━━━━━━━━━━━━━\u001b[0m\u001b[37m\u001b[0m \u001b[1m28s\u001b[0m 749ms/step - accuracy: 0.5272 - loss: 0.6934 - recall: 0.6169 - val_accuracy: 0.5954 - val_loss: 0.6960 - val_recall: 0.6923 - learning_rate: 1.0000e-04\n",
            "Epoch 7/50\n",
            "\u001b[1m38/38\u001b[0m \u001b[32m━━━━━━━━━━━━━━━━━━━━\u001b[0m\u001b[37m\u001b[0m \u001b[1m29s\u001b[0m 765ms/step - accuracy: 0.5268 - loss: 0.6933 - recall: 0.5709 - val_accuracy: 0.7514 - val_loss: 0.6765 - val_recall: 1.0000 - learning_rate: 1.0000e-04\n",
            "Epoch 8/50\n",
            "\u001b[1m29/38\u001b[0m \u001b[32m━━━━━━━━━━━━━━━\u001b[0m\u001b[37m━━━━━\u001b[0m \u001b[1m5s\u001b[0m 662ms/step - accuracy: 0.5623 - loss: 0.6878 - recall: 0.7429"
          ]
        }
      ],
      "source": [
        "# Callbacks\n",
        "early_stopping = EarlyStopping(\n",
        "    monitor='val_loss',\n",
        "    patience=8,\n",
        "    restore_best_weights=True\n",
        ")\n",
        "\n",
        "reduce_lr = ReduceLROnPlateau(\n",
        "    monitor='val_loss',\n",
        "    factor=0.5,       # Réduction du LR par un facteur de 2\n",
        "    patience=5,       # Attendre 3 époques sans amélioration avant de réduire\n",
        "    min_delta=0.001,  # Seuil minimum de variation pour considérer une amélioration\n",
        "    min_lr=1e-6       # LR minimum pour éviter d'aller trop bas\n",
        ")\n",
        "\n",
        "#class_weights = {0: 1., 1: 2.35}\n",
        "\n",
        "# Entraînement\n",
        "history = model.fit(\n",
        "    train_dataset,\n",
        "    epochs=50,\n",
        "    validation_data=val_dataset, \n",
        "    callbacks=[early_stopping, reduce_lr],\n",
        "    #class_weight=class_weights, \n",
        "    verbose=1\n",
        ")\n",
        "\n",
        "# Fine Tuning\n",
        "\n",
        "print(\"Activation du Fine-Tuning sur les 4 dernières couches\")\n",
        "\n",
        "for layer in base_model.layers[1].layers[-2:]:  \n",
        "    layer.trainable = True \n",
        "\n",
        "\n",
        "model.compile(\n",
        "    optimizer=tf.keras.optimizers.Adam(learning_rate=1e-5),  # Réduction du LR pour ne pas casser les poids\n",
        "    loss='binary_crossentropy',\n",
        "    metrics=['accuracy', tf.keras.metrics.Recall(name='recall')]\n",
        ")\n",
        "\n",
        "# Fine-Tuning avec couches débloquées\n",
        "history_finetune = model.fit(\n",
        "    train_dataset, \n",
        "    epochs=10,  # On refait quelques epochs pour affiner l’apprentissage\n",
        "    validation_data=val_dataset,\n",
        "    callbacks=[early_stopping, reduce_lr]\n",
        ")\n",
        "\n",
        "print(\"Fine-Tuning terminé\")"
      ]
    },
    {
      "cell_type": "code",
      "execution_count": null,
      "id": "1b3be59e",
      "metadata": {},
      "outputs": [
        {
          "name": "stdout",
          "output_type": "stream",
          "text": [
            "\u001b[1m1/1\u001b[0m \u001b[32m━━━━━━━━━━━━━━━━━━━━\u001b[0m\u001b[37m\u001b[0m \u001b[1m1s\u001b[0m 730ms/step\n",
            "\u001b[1m1/1\u001b[0m \u001b[32m━━━━━━━━━━━━━━━━━━━━\u001b[0m\u001b[37m\u001b[0m \u001b[1m1s\u001b[0m 668ms/step\n",
            "\u001b[1m1/1\u001b[0m \u001b[32m━━━━━━━━━━━━━━━━━━━━\u001b[0m\u001b[37m\u001b[0m \u001b[1m1s\u001b[0m 662ms/step\n",
            "\u001b[1m1/1\u001b[0m \u001b[32m━━━━━━━━━━━━━━━━━━━━\u001b[0m\u001b[37m\u001b[0m \u001b[1m1s\u001b[0m 655ms/step\n",
            "\u001b[1m1/1\u001b[0m \u001b[32m━━━━━━━━━━━━━━━━━━━━\u001b[0m\u001b[37m\u001b[0m \u001b[1m1s\u001b[0m 659ms/step\n",
            "\u001b[1m1/1\u001b[0m \u001b[32m━━━━━━━━━━━━━━━━━━━━\u001b[0m\u001b[37m\u001b[0m \u001b[1m0s\u001b[0m 374ms/step\n",
            "✅ Seuil optimal pour Recall ≥ 99.0% : 0.6000\n"
          ]
        },
        {
          "data": {
            "image/png": "[encoded data removed]",
            "text/plain": [
              "<Figure size 800x600 with 2 Axes>"
            ]
          },
          "metadata": {},
          "output_type": "display_data"
        },
        {
          "data": {
            "image/png": "[encoded data removed]",
            "text/plain": [
              "<Figure size 800x600 with 1 Axes>"
            ]
          },
          "metadata": {},
          "output_type": "display_data"
        }
      ],
      "source": [
        "# Ajout de la courbe ROC, AUC et Precision-Recall après l'entraînement\n",
        "\n",
        "y_true = []\n",
        "y_scores = []\n",
        "\n",
        "# On extrait les prédictions et les vraies valeurs une seule fois clairement :\n",
        "for x_batch, y_batch in val_dataset:\n",
        "    y_true.extend(y_batch.numpy())  \n",
        "    y_scores.extend(model.predict(x_batch).flatten())  \n",
        "\n",
        "y_true = np.array(y_true)\n",
        "y_scores = np.array(y_scores)\n",
        "\n",
        "# Calcul de la courbe ROC\n",
        "fpr, tpr, roc_thresholds = roc_curve(y_true, y_scores)\n",
        "roc_auc = auc(fpr, tpr)\n",
        "\n",
        "# Calcul de la courbe Precision-Recall pour seuil optimal selon Recall minimal\n",
        "precision, recall, pr_thresholds = precision_recall_curve(y_true, y_scores)\n",
        "\n",
        "# On fixe un Recall minimum (99% pour protéger au maximum la réputation)\n",
        "recall_min = 0.99\n",
        "\n",
        "# Trouver le seuil optimal correspondant au Recall minimal requis\n",
        "optimal_threshold = pr_thresholds[np.where(recall >= recall_min)[0][-1]]\n",
        "\n",
        "optimal_threshold = 0.5\n",
        "\n",
        "print(f\"✅ Seuil optimal pour Recall ≥ {recall_min*100:.1f}% : {optimal_threshold:.4f}\")\n",
        "\n",
        "# Prédictions finales avec seuil optimal\n",
        "y_pred_optimal = (y_scores >= optimal_threshold).astype(int)\n",
        "\n",
        "# Calcul et affichage clair de la matrice de confusion\n",
        "cm = confusion_matrix(y_true, y_pred_optimal)\n",
        "disp = ConfusionMatrixDisplay(confusion_matrix=cm, display_labels=['Classe 0 (OK)', 'Classe 1 (Défaut)'])\n",
        "\n",
        "plt.figure(figsize=(8,6))\n",
        "disp.plot(cmap='Blues', values_format='d', ax=plt.gca())\n",
        "plt.title('Matrice de Confusion sur Validation (Seuil optimal)')\n",
        "plt.show()\n",
        "\n",
        "# Affichage de la courbe ROC\n",
        "plt.figure(figsize=(8, 6))\n",
        "plt.plot(fpr, tpr, color='blue', label=f'ROC curve (AUC = {roc_auc:.2f})')\n",
        "plt.plot([0, 1], [0, 1], color='gray', linestyle='--')\n",
        "plt.xlabel('False Positive Rate')\n",
        "plt.ylabel('True Positive Rate')\n",
        "plt.title('Courbe ROC')\n",
        "plt.legend(loc='lower right')\n",
        "plt.show()\n",
        "\n",
        "\n"
      ]
    },
    {
      "cell_type": "markdown",
      "id": "IquuiFNIlH6a",
      "metadata": {
        "id": "IquuiFNIlH6a"
      },
      "source": [
        "## 4. Évaluation sur le même dataset"
      ]
    },
    {
      "cell_type": "code",
      "execution_count": null,
      "id": "EFp7dBImlH6a",
      "metadata": {
        "id": "EFp7dBImlH6a"
      },
      "outputs": [
        {
          "name": "stdout",
          "output_type": "stream",
          "text": [
            "\u001b[1m6/6\u001b[0m \u001b[32m━━━━━━━━━━━━━━━━━━━━\u001b[0m\u001b[37m\u001b[0m \u001b[1m4s\u001b[0m 574ms/step\n",
            "Accuracy avec seuil optimal (0.6000) : 0.3237\n",
            "Précision : 0.7407\n",
            "Recall : 0.1538\n",
            "F1-score : 0.2548\n"
          ]
        }
      ],
      "source": [
        "# Obtenir les probabilités des prédictions sur le test set\n",
        "y_scores_test = model.predict(X_test).flatten()  # Sorties sigmoïdes entre 0 et 1\n",
        "\n",
        "# Appliquer le seuil optimal trouvé avec la courbe ROC  \n",
        "y_pred_test = (y_scores_test >= optimal_threshold).astype(int)\n",
        "\n",
        "# Calcul des métriques\n",
        "accuracy = accuracy_score(y_test, y_pred_test)\n",
        "precision = precision_score(y_test, y_pred_test)\n",
        "recall = recall_score(y_test, y_pred_test)\n",
        "f1 = f1_score(y_test, y_pred_test)  # Ajout du F1-score\n",
        "\n",
        "# Affichage des résultats\n",
        "print(f\"Accuracy avec seuil optimal ({optimal_threshold:.4f}) : {accuracy:.4f}\")\n",
        "print(f\"Précision : {precision:.4f}\")\n",
        "print(f\"Recall : {recall:.4f}\")\n",
        "print(f\"F1-score : {f1:.4f}\")"
      ]
    }
  ],
  "metadata": {
    "colab": {
      "provenance": []
    },
    "kernelspec": {
      "display_name": "venv",
      "language": "python",
      "name": "python3"
    },
    "language_info": {
      "codemirror_mode": {
        "name": "ipython",
        "version": 3
      },
      "file_extension": ".py",
      "mimetype": "text/x-python",
      "name": "python",
      "nbconvert_exporter": "python",
      "pygments_lexer": "ipython3",
      "version": "3.11.0"
    },
    "name": "bad_training"
  },
  "nbformat": 4,
  "nbformat_minor": 5
}
